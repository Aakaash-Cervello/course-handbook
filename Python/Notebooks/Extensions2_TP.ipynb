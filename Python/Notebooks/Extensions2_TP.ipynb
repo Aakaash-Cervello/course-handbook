{
 "cells": [
  {
   "cell_type": "markdown",
   "metadata": {
    "id": "47aCyzhjfZ2r"
   },
   "source": [
    "# Dates and Times"
   ]
  },
  {
   "cell_type": "markdown",
   "metadata": {
    "id": "p7y7w2tPfPCB"
   },
   "source": [
    "Working with dates and times in programming can be complicated. Fortunately, you rarely need to implement complicated features from scratch these days since many open-source libraries are available to help out. This is definitely the case in Python, which includes three separate modules in the standard library to work with dates and times:\n",
    "1. **calendar** outputs calendars and provides functions using an idealized **Gregorian calendar**.\n",
    "2. **datetime** supplies classes for manipulating dates and times.\n",
    "3. **time** provides time-related functions where dates are not needed.\n",
    "\n",
    "Let's discuss each of these in detail."
   ]
  },
  {
   "cell_type": "markdown",
   "metadata": {
    "id": "z6EA_HsBkoAh"
   },
   "source": [
    "## Calendar"
   ]
  },
  {
   "cell_type": "markdown",
   "metadata": {
    "id": "x5UwyheqlXtv"
   },
   "source": [
    "Python defines an inbuilt module calendar which handles operations related to calendar. Calendar module allows output calendars like the program and provides additional useful functions related to the calendar. Functions and classes defined in Calendar module use an idealized calendar, the current Gregorian calendar extended indefinitely in both directions. By default, these calendars have Monday as the first day of the week, and Sunday as the last (the European convention).\n",
    "\n",
    "\n",
    "\n",
    "\n"
   ]
  },
  {
   "cell_type": "code",
   "execution_count": null,
   "metadata": {
    "id": "dwAvzola_E6U"
   },
   "outputs": [],
   "source": [
    "# import module  \n",
    "import calendar as cal"
   ]
  },
  {
   "cell_type": "code",
   "execution_count": null,
   "metadata": {
    "colab": {
     "base_uri": "https://localhost:8080/"
    },
    "id": "5haENMfnkz1I",
    "outputId": "71354537-f00f-4b35-a0bd-1c9466929783"
   },
   "outputs": [
    {
     "name": "stdout",
     "output_type": "stream",
     "text": [
      "      May 2015\n",
      "Mo Tu We Th Fr Sa Su\n",
      "             1  2  3\n",
      " 4  5  6  7  8  9 10\n",
      "11 12 13 14 15 16 17\n",
      "18 19 20 21 22 23 24\n",
      "25 26 27 28 29 30 31\n",
      "\n"
     ]
    }
   ],
   "source": [
    "# Lets print a calendar of given month and year\n",
    "print(cal.month(2015, 5))"
   ]
  },
  {
   "cell_type": "code",
   "execution_count": null,
   "metadata": {
    "colab": {
     "base_uri": "https://localhost:8080/"
    },
    "id": "W5xf05afnDoi",
    "outputId": "56b87907-ecef-468d-ece2-63cae9a8d8a8"
   },
   "outputs": [
    {
     "name": "stdout",
     "output_type": "stream",
     "text": [
      "The calender of year 2020 is : \n",
      "                                  2020\n",
      "\n",
      "      January                   February                   March\n",
      "Mo Tu We Th Fr Sa Su      Mo Tu We Th Fr Sa Su      Mo Tu We Th Fr Sa Su\n",
      "       1  2  3  4  5                      1  2                         1\n",
      " 6  7  8  9 10 11 12       3  4  5  6  7  8  9       2  3  4  5  6  7  8\n",
      "13 14 15 16 17 18 19      10 11 12 13 14 15 16       9 10 11 12 13 14 15\n",
      "20 21 22 23 24 25 26      17 18 19 20 21 22 23      16 17 18 19 20 21 22\n",
      "27 28 29 30 31            24 25 26 27 28 29         23 24 25 26 27 28 29\n",
      "                                                    30 31\n",
      "\n",
      "       April                      May                       June\n",
      "Mo Tu We Th Fr Sa Su      Mo Tu We Th Fr Sa Su      Mo Tu We Th Fr Sa Su\n",
      "       1  2  3  4  5                   1  2  3       1  2  3  4  5  6  7\n",
      " 6  7  8  9 10 11 12       4  5  6  7  8  9 10       8  9 10 11 12 13 14\n",
      "13 14 15 16 17 18 19      11 12 13 14 15 16 17      15 16 17 18 19 20 21\n",
      "20 21 22 23 24 25 26      18 19 20 21 22 23 24      22 23 24 25 26 27 28\n",
      "27 28 29 30               25 26 27 28 29 30 31      29 30\n",
      "\n",
      "        July                     August                  September\n",
      "Mo Tu We Th Fr Sa Su      Mo Tu We Th Fr Sa Su      Mo Tu We Th Fr Sa Su\n",
      "       1  2  3  4  5                      1  2          1  2  3  4  5  6\n",
      " 6  7  8  9 10 11 12       3  4  5  6  7  8  9       7  8  9 10 11 12 13\n",
      "13 14 15 16 17 18 19      10 11 12 13 14 15 16      14 15 16 17 18 19 20\n",
      "20 21 22 23 24 25 26      17 18 19 20 21 22 23      21 22 23 24 25 26 27\n",
      "27 28 29 30 31            24 25 26 27 28 29 30      28 29 30\n",
      "                          31\n",
      "\n",
      "      October                   November                  December\n",
      "Mo Tu We Th Fr Sa Su      Mo Tu We Th Fr Sa Su      Mo Tu We Th Fr Sa Su\n",
      "          1  2  3  4                         1          1  2  3  4  5  6\n",
      " 5  6  7  8  9 10 11       2  3  4  5  6  7  8       7  8  9 10 11 12 13\n",
      "12 13 14 15 16 17 18       9 10 11 12 13 14 15      14 15 16 17 18 19 20\n",
      "19 20 21 22 23 24 25      16 17 18 19 20 21 22      21 22 23 24 25 26 27\n",
      "26 27 28 29 30 31         23 24 25 26 27 28 29      28 29 30 31\n",
      "                          30\n",
      "\n"
     ]
    }
   ],
   "source": [
    "# Now, lets print calendar of an entire year \n",
    "print (\"The calender of year 2020 is : \")  \n",
    "print (cal.calendar(2020)) "
   ]
  },
  {
   "cell_type": "code",
   "execution_count": null,
   "metadata": {
    "colab": {
     "base_uri": "https://localhost:8080/"
    },
    "id": "wFM7MY2Ypt9N",
    "outputId": "2f729bd7-0250-4a9b-9433-67493e6aa543"
   },
   "outputs": [
    {
     "name": "stdout",
     "output_type": "stream",
     "text": [
      "0\n",
      "1\n",
      "2\n",
      "3\n",
      "4\n",
      "5\n",
      "6\n"
     ]
    }
   ],
   "source": [
    "#set firstweekday, Monday(0) and Sunday(6)\n",
    "obj = cal.Calendar(firstweekday = 0)\n",
    "\n",
    "\n",
    "for day in obj.iterweekdays():\n",
    "  print(day)"
   ]
  },
  {
   "cell_type": "code",
   "execution_count": null,
   "metadata": {
    "colab": {
     "base_uri": "https://localhost:8080/"
    },
    "id": "kChkBusDrzSg",
    "outputId": "366e9058-3c84-4cd2-8a04-7e23830ba69b"
   },
   "outputs": [
    {
     "name": "stdout",
     "output_type": "stream",
     "text": [
      "2018-08-27\n",
      "2018-08-28\n",
      "2018-08-29\n",
      "2018-08-30\n",
      "2018-08-31\n",
      "2018-09-01\n",
      "2018-09-02\n",
      "2018-09-03\n",
      "2018-09-04\n",
      "2018-09-05\n",
      "2018-09-06\n",
      "2018-09-07\n",
      "2018-09-08\n",
      "2018-09-09\n",
      "2018-09-10\n",
      "2018-09-11\n",
      "2018-09-12\n",
      "2018-09-13\n",
      "2018-09-14\n",
      "2018-09-15\n",
      "2018-09-16\n",
      "2018-09-17\n",
      "2018-09-18\n",
      "2018-09-19\n",
      "2018-09-20\n",
      "2018-09-21\n",
      "2018-09-22\n",
      "2018-09-23\n",
      "2018-09-24\n",
      "2018-09-25\n",
      "2018-09-26\n",
      "2018-09-27\n",
      "2018-09-28\n",
      "2018-09-29\n",
      "2018-09-30\n"
     ]
    }
   ],
   "source": [
    "for day in obj.itermonthdates(2018, 9): \n",
    "    print(day)"
   ]
  },
  {
   "cell_type": "code",
   "execution_count": null,
   "metadata": {
    "colab": {
     "base_uri": "https://localhost:8080/"
    },
    "id": "gGlTyO4MtCWi",
    "outputId": "3c82f08e-d2c3-4f80-96b4-32548772b2a1"
   },
   "outputs": [
    {
     "name": "stdout",
     "output_type": "stream",
     "text": [
      "              September 2018\n",
      " Mon   Tue   Wed   Thu   Fri   Sat   Sun\n",
      "                                 1     2\n",
      "   3     4     5     6     7     8     9\n",
      "  10    11    12    13    14    15    16\n",
      "  17    18    19    20    21    22    23\n",
      "  24    25    26    27    28    29    30\n",
      "\n"
     ]
    }
   ],
   "source": [
    "#create object for textcalendar to format\n",
    "text_cal = calendar.TextCalendar(firstweekday = 0) \n",
    "  \n",
    "# default value of width is 0 \n",
    "  \n",
    "# printing formatmonth \n",
    "print(text_cal.formatmonth(2018, 9, w = 5))"
   ]
  },
  {
   "cell_type": "code",
   "execution_count": null,
   "metadata": {
    "colab": {
     "base_uri": "https://localhost:8080/"
    },
    "id": "hyhxL1ysv4Sk",
    "outputId": "7f7cc8ac-108f-46fd-ec66-3f8a9eac801b"
   },
   "outputs": [
    {
     "name": "stdout",
     "output_type": "stream",
     "text": [
      "                  October 2018\n",
      "\n",
      " Mon    Tue    Wed    Thu    Fri    Sat    Sun\n",
      "\n",
      "   1      2      3      4      5      6      7\n",
      "\n",
      "   8      9     10     11     12     13     14\n",
      "\n",
      "  15     16     17     18     19     20     21\n",
      "\n",
      "  22     23     24     25     26     27     28\n",
      "\n",
      "  29     30     31\n",
      "\n",
      "\n"
     ]
    }
   ],
   "source": [
    "# giving value of width = 6, line = 2 \n",
    "  \n",
    "# printing formatmonth \n",
    "print(text_cal.formatmonth(2018, 10, 6, 2)) "
   ]
  },
  {
   "cell_type": "code",
   "execution_count": null,
   "metadata": {
    "colab": {
     "base_uri": "https://localhost:8080/"
    },
    "id": "dP3Dl0GQxdmp",
    "outputId": "76f91ecf-e425-4619-f1d6-f96c76850837"
   },
   "outputs": [
    {
     "name": "stdout",
     "output_type": "stream",
     "text": [
      "                                  2019\n",
      "\n",
      "      January                   February                   March\n",
      "Mo Tu We Th Fr Sa Su      Mo Tu We Th Fr Sa Su      Mo Tu We Th Fr Sa Su\n",
      "    1  2  3  4  5  6                   1  2  3                   1  2  3\n",
      " 7  8  9 10 11 12 13       4  5  6  7  8  9 10       4  5  6  7  8  9 10\n",
      "14 15 16 17 18 19 20      11 12 13 14 15 16 17      11 12 13 14 15 16 17\n",
      "21 22 23 24 25 26 27      18 19 20 21 22 23 24      18 19 20 21 22 23 24\n",
      "28 29 30 31               25 26 27 28               25 26 27 28 29 30 31\n",
      "\n",
      "       April                      May                       June\n",
      "Mo Tu We Th Fr Sa Su      Mo Tu We Th Fr Sa Su      Mo Tu We Th Fr Sa Su\n",
      " 1  2  3  4  5  6  7             1  2  3  4  5                      1  2\n",
      " 8  9 10 11 12 13 14       6  7  8  9 10 11 12       3  4  5  6  7  8  9\n",
      "15 16 17 18 19 20 21      13 14 15 16 17 18 19      10 11 12 13 14 15 16\n",
      "22 23 24 25 26 27 28      20 21 22 23 24 25 26      17 18 19 20 21 22 23\n",
      "29 30                     27 28 29 30 31            24 25 26 27 28 29 30\n",
      "\n",
      "        July                     August                  September\n",
      "Mo Tu We Th Fr Sa Su      Mo Tu We Th Fr Sa Su      Mo Tu We Th Fr Sa Su\n",
      " 1  2  3  4  5  6  7                1  2  3  4                         1\n",
      " 8  9 10 11 12 13 14       5  6  7  8  9 10 11       2  3  4  5  6  7  8\n",
      "15 16 17 18 19 20 21      12 13 14 15 16 17 18       9 10 11 12 13 14 15\n",
      "22 23 24 25 26 27 28      19 20 21 22 23 24 25      16 17 18 19 20 21 22\n",
      "29 30 31                  26 27 28 29 30 31         23 24 25 26 27 28 29\n",
      "                                                    30\n",
      "\n",
      "      October                   November                  December\n",
      "Mo Tu We Th Fr Sa Su      Mo Tu We Th Fr Sa Su      Mo Tu We Th Fr Sa Su\n",
      "    1  2  3  4  5  6                   1  2  3                         1\n",
      " 7  8  9 10 11 12 13       4  5  6  7  8  9 10       2  3  4  5  6  7  8\n",
      "14 15 16 17 18 19 20      11 12 13 14 15 16 17       9 10 11 12 13 14 15\n",
      "21 22 23 24 25 26 27      18 19 20 21 22 23 24      16 17 18 19 20 21 22\n",
      "28 29 30 31               25 26 27 28 29 30         23 24 25 26 27 28 29\n",
      "                                                    30 31\n",
      "\n"
     ]
    }
   ],
   "source": [
    "#print calendar without using print command\n",
    "cal.prcal(2019)"
   ]
  },
  {
   "cell_type": "code",
   "execution_count": null,
   "metadata": {
    "colab": {
     "base_uri": "https://localhost:8080/"
    },
    "id": "_rGj9kUmyJ_m",
    "outputId": "3136e275-0c05-46bd-f65b-b3a902b405c0"
   },
   "outputs": [
    {
     "data": {
      "text/plain": [
       "True"
      ]
     },
     "execution_count": 23,
     "metadata": {
      "tags": []
     },
     "output_type": "execute_result"
    }
   ],
   "source": [
    "#check if the given year is a leap year\n",
    "cal.isleap(2020)"
   ]
  },
  {
   "cell_type": "markdown",
   "metadata": {
    "id": "mNcaxiaFBq75"
   },
   "source": [
    "There are many more functions or methods which can be referenced from below links.\n",
    "\n",
    "https://www.geeksforgeeks.org/python-calendar-module/\n",
    "\n",
    "https://docs.python.org/3/library/calendar.html#module-calendar"
   ]
  },
  {
   "cell_type": "markdown",
   "metadata": {
    "id": "Wb_yxE5_ZeKs"
   },
   "source": [
    "## Dates and Time"
   ]
  },
  {
   "cell_type": "markdown",
   "metadata": {
    "id": "D6qwZYuterJ_"
   },
   "source": [
    "In Python, date and time are not a data type of its own, but a module named datetime can be imported to work with the date as well as time. Datetime module comes built into Python, so there is no need to install it externally.\n",
    "\n",
    "Datetime module supplies classes to work with date and time. These classes provide a number of functions to deal with dates, times and time intervals. Date and datetime are an object in Python, so when you manipulate them, you are actually manipulating objects and not string or timestamps.\n",
    "\n",
    "The datetime classes are categorize into 6 main classes –\n",
    "\n",
    "1. [date](https://www.geeksforgeeks.org/python-datetime-module-with-examples/#date) – An idealized naive date, assuming the current Gregorian calendar always was, and always will be, in effect. Its attributes are year, month and day.\n",
    "2. [time](https://www.geeksforgeeks.org/python-datetime-module-with-examples/#time) – An idealized time, independent of any particular day, assuming that every day has exactly 24*60*60 seconds. Its attributes are hour, minute, second, microsecond, and tzinfo.\n",
    "3. [datetime](https://www.geeksforgeeks.org/python-datetime-module-with-examples/#datetime) – Its a combination of date and time along with the attributes year, month, day, hour, minute, second, microsecond, and tzinfo.\n",
    "4. [timedelta](https://www.geeksforgeeks.org/python-datetime-module-with-examples/#timedelta) – A duration expressing the difference between two date, time, or datetime instances to microsecond resolution.\n",
    "5. [tzinfo](https://www.geeksforgeeks.org/python-datetime-module-with-examples/#tzinfo) – It provides time zone information objects.\n",
    "6. [timezone](https://www.geeksforgeeks.org/python-datetime-module-with-examples/#timezone) – A class that implements the tzinfo abstract base class as a fixed offset from the UTC (New in version 3.2)."
   ]
  },
  {
   "cell_type": "code",
   "execution_count": null,
   "metadata": {
    "id": "xQ6aMo8_CbCP"
   },
   "outputs": [],
   "source": [
    "#importing the modules\n",
    "from datetime import date, time, datetime"
   ]
  },
  {
   "cell_type": "code",
   "execution_count": null,
   "metadata": {
    "colab": {
     "base_uri": "https://localhost:8080/"
    },
    "id": "hQP8YhWGjcqw",
    "outputId": "27168bc6-d734-47d8-99a6-d7ef496866a1"
   },
   "outputs": [
    {
     "name": "stdout",
     "output_type": "stream",
     "text": [
      "Current Full Date: 2021-01-11\n",
      "Current year: 2021\n",
      "Current month: 1\n",
      "Current day: 11\n"
     ]
    }
   ],
   "source": [
    "#Print current date\n",
    "print(\"Current Full Date:\",date.today())\n",
    "\n",
    "#Printing current year\n",
    "print(\"Current year:\",date.today().year)\n",
    "\n",
    "#Printing current month\n",
    "print(\"Current month:\",date.today().month)\n",
    "\n",
    "#Printing current day\n",
    "print(\"Current day:\",date.today().day)"
   ]
  },
  {
   "cell_type": "code",
   "execution_count": null,
   "metadata": {
    "colab": {
     "base_uri": "https://localhost:8080/"
    },
    "id": "CiQDfO_sn62L",
    "outputId": "1a116581-a8dd-4ec4-f3a2-263cb3783cc3"
   },
   "outputs": [
    {
     "name": "stdout",
     "output_type": "stream",
     "text": [
      "hour = 19\n",
      "minute = 8\n",
      "second = 56\n",
      "microsecond = 0\n"
     ]
    }
   ],
   "source": [
    "Time = time(19, 8, 56) \n",
    "  \n",
    "print(\"hour =\", Time.hour) \n",
    "print(\"minute =\", Time.minute) \n",
    "print(\"second =\", Time.second) \n",
    "print(\"microsecond =\", Time.microsecond) "
   ]
  },
  {
   "cell_type": "code",
   "execution_count": null,
   "metadata": {
    "colab": {
     "base_uri": "https://localhost:8080/"
    },
    "id": "zs3G4KV2sdgV",
    "outputId": "97570e3e-16a0-4cc5-a7ee-5adfe9dfc826"
   },
   "outputs": [
    {
     "name": "stdout",
     "output_type": "stream",
     "text": [
      "Current date and time is 2021-01-11 13:45:36.507544\n"
     ]
    }
   ],
   "source": [
    "# Calling now() function \n",
    "today = datetime.now() \n",
    "  \n",
    "print(\"Current date and time is\", today) "
   ]
  },
  {
   "cell_type": "code",
   "execution_count": null,
   "metadata": {
    "colab": {
     "base_uri": "https://localhost:8080/"
    },
    "id": "1xfApCIassAR",
    "outputId": "af30a37d-6f36-412e-b748-7004866df9c6"
   },
   "outputs": [
    {
     "name": "stdout",
     "output_type": "stream",
     "text": [
      "year = 2021\n",
      "month = 1\n",
      "day = 11\n",
      "hour = 13\n",
      "minute = 45\n",
      "second = 36\n",
      "microsecond = 507544\n"
     ]
    }
   ],
   "source": [
    "print(\"year =\", today.year)\n",
    "print(\"month =\", today.month) \n",
    "print(\"day =\", today.day) \n",
    "print(\"hour =\", today.hour)  \n",
    "print(\"minute =\", today.minute) \n",
    "print(\"second =\", today.second) \n",
    "print(\"microsecond =\", today.microsecond) "
   ]
  },
  {
   "cell_type": "code",
   "execution_count": null,
   "metadata": {
    "colab": {
     "base_uri": "https://localhost:8080/"
    },
    "id": "DGy53v4WxFyf",
    "outputId": "eedde047-5274-49d6-e99b-bbdfb1847a72"
   },
   "outputs": [
    {
     "name": "stdout",
     "output_type": "stream",
     "text": [
      "Current Date: 2021-01-11\n",
      "Current Time: 14:09:02\n",
      "Combined date and time: 2021-01-11 14:09:02\n"
     ]
    }
   ],
   "source": [
    "#Use of combine function\n",
    "today = date.today() #todays date\n",
    "now = datetime.now() #current date and time\n",
    "current_time = time(now.hour, now.minute, now.second) #extracting current time \n",
    "\n",
    "print(\"Current Date:\",today)\n",
    "print(\"Current Time:\",current_time)\n",
    "print(\"Combined date and time:\",datetime.combine(today, current_time))"
   ]
  },
  {
   "cell_type": "code",
   "execution_count": null,
   "metadata": {
    "id": "Kxnc19u0kOdA"
   },
   "outputs": [],
   "source": [
    "#Import timedelta module\n",
    "from datetime import timedelta"
   ]
  },
  {
   "cell_type": "code",
   "execution_count": null,
   "metadata": {
    "colab": {
     "base_uri": "https://localhost:8080/"
    },
    "id": "tFHthOHukeEV",
    "outputId": "072952b8-f0ff-4157-e37d-66f9052230b5"
   },
   "outputs": [
    {
     "name": "stdout",
     "output_type": "stream",
     "text": [
      "2021-01-12 07:49:46.610398\n"
     ]
    }
   ],
   "source": [
    "now = datetime.now()\n",
    "print(now)"
   ]
  },
  {
   "cell_type": "code",
   "execution_count": null,
   "metadata": {
    "colab": {
     "base_uri": "https://localhost:8080/"
    },
    "id": "7X4YiYq9kwCb",
    "outputId": "aeaaba69-5ffd-4783-eef1-b24160adca7c"
   },
   "outputs": [
    {
     "name": "stdout",
     "output_type": "stream",
     "text": [
      "2021-01-13 07:49:46.610398\n"
     ]
    }
   ],
   "source": [
    "tomorrow = timedelta(days=+1)\n",
    "print(now + tomorrow)"
   ]
  },
  {
   "cell_type": "code",
   "execution_count": null,
   "metadata": {
    "colab": {
     "base_uri": "https://localhost:8080/"
    },
    "id": "Y9pN3syyk7Ig",
    "outputId": "7dadb352-5ace-4c99-e9bb-3893f046f72b"
   },
   "outputs": [
    {
     "name": "stdout",
     "output_type": "stream",
     "text": [
      "2021-01-11 07:49:46.610398\n"
     ]
    }
   ],
   "source": [
    "yesterday = timedelta(days=-1)\n",
    "print(now + yesterday)"
   ]
  },
  {
   "cell_type": "code",
   "execution_count": null,
   "metadata": {
    "colab": {
     "base_uri": "https://localhost:8080/"
    },
    "id": "gTpYZfStlKAy",
    "outputId": "7d3679e4-95a2-4a62-98e8-b55c260889b1"
   },
   "outputs": [
    {
     "name": "stdout",
     "output_type": "stream",
     "text": [
      "2021-01-15 03:49:46.610398\n"
     ]
    }
   ],
   "source": [
    "delta = timedelta(days=+3, hours=-4)\n",
    "print(now + delta)"
   ]
  },
  {
   "cell_type": "code",
   "execution_count": 4,
   "metadata": {
    "colab": {
     "base_uri": "https://localhost:8080/"
    },
    "id": "hm5L93z39try",
    "outputId": "97ad1ae9-eba3-402b-da9c-1408c9ac4a95"
   },
   "outputs": [
    {
     "name": "stdout",
     "output_type": "stream",
     "text": [
      "2021-01-17 15:30:23.657247+00:00\n",
      "UTC\n"
     ]
    }
   ],
   "source": [
    "from dateutil import tz\n",
    "from datetime import datetime\n",
    "now = datetime.now(tz=tz.tzlocal())\n",
    "print(now)\n",
    "\n",
    "print(now.tzname())"
   ]
  },
  {
   "cell_type": "code",
   "execution_count": 5,
   "metadata": {
    "colab": {
     "base_uri": "https://localhost:8080/"
    },
    "id": "O4EwOMtS-RYc",
    "outputId": "4c8093cc-2131-4af8-fcc3-10c19ddf305e"
   },
   "outputs": [
    {
     "name": "stdout",
     "output_type": "stream",
     "text": [
      "2021-01-17 21:02:23.077196+05:30\n",
      "IST\n"
     ]
    }
   ],
   "source": [
    "Indian_tz = tz.gettz(\"Asia/Calcutta\")\n",
    "now = datetime.now(tz=Indian_tz)\n",
    "print(now)\n",
    "\n",
    "print(now.tzname())"
   ]
  },
  {
   "cell_type": "markdown",
   "metadata": {
    "id": "8jwFGkd2RTx-"
   },
   "source": [
    "# OS and SYS"
   ]
  },
  {
   "cell_type": "markdown",
   "metadata": {},
   "source": [
    "## OS Module"
   ]
  },
  {
   "cell_type": "markdown",
   "metadata": {},
   "source": [
    "The OS module in python provides functions for interacting with the operating system. OS, comes under Python’s standard utility modules. This module provides a portable way of using operating system dependent functionality. The *os* and *os.path* modules include many functions to interact with the file system."
   ]
  },
  {
   "cell_type": "markdown",
   "metadata": {},
   "source": [
    "<b>os.name</b>: This function gives the name of the operating system dependent module imported. The following names have currently been registered: ‘posix’, ‘nt’, ‘os2’, ‘ce’, ‘java’ and ‘riscos’"
   ]
  },
  {
   "cell_type": "code",
   "execution_count": 11,
   "metadata": {},
   "outputs": [
    {
     "name": "stdout",
     "output_type": "stream",
     "text": [
      "nt\n"
     ]
    }
   ],
   "source": [
    "import os \n",
    "print(os.name)"
   ]
  },
  {
   "cell_type": "markdown",
   "metadata": {},
   "source": [
    "<b>os.getcwd()</b>: Function os.getcwd(), returns the Current Working Directory(CWD) of the file used to execute the code, can vary from system to system."
   ]
  },
  {
   "cell_type": "code",
   "execution_count": 12,
   "metadata": {},
   "outputs": [
    {
     "data": {
      "text/plain": [
       "'C:\\\\Users\\\\Developer\\\\Downloads\\\\Python\\\\course-handbook\\\\Python\\\\Notebooks'"
      ]
     },
     "execution_count": 12,
     "metadata": {},
     "output_type": "execute_result"
    }
   ],
   "source": [
    "os.getcwd()"
   ]
  },
  {
   "cell_type": "code",
   "execution_count": 3,
   "metadata": {},
   "outputs": [
    {
     "data": {
      "text/plain": [
       "'C:\\\\Users\\\\Developer\\\\Downloads\\\\Python\\\\course-handbook\\\\Python\\\\Notebooks'"
      ]
     },
     "execution_count": 3,
     "metadata": {},
     "output_type": "execute_result"
    }
   ],
   "source": [
    "os.path.abspath('.')"
   ]
  },
  {
   "cell_type": "markdown",
   "metadata": {},
   "source": [
    "<b>os.chdir(path)</b>\n",
    "Change the current working directory to path.\n",
    "\n",
    "This function can support specifying a file descriptor. The descriptor must refer to an opened directory, not an open file.\n",
    "\n",
    "This function can raise OSError and subclasses such as FileNotFoundError, PermissionError, and NotADirectoryError."
   ]
  },
  {
   "cell_type": "code",
   "execution_count": 4,
   "metadata": {},
   "outputs": [],
   "source": [
    "os.chdir(\"C:/\")"
   ]
  },
  {
   "cell_type": "markdown",
   "metadata": {},
   "source": [
    "<b>os.getcwd()</b>\n",
    "Return a string representing the current working directory."
   ]
  },
  {
   "cell_type": "code",
   "execution_count": 10,
   "metadata": {},
   "outputs": [
    {
     "ename": "NameError",
     "evalue": "name 'os' is not defined",
     "output_type": "error",
     "traceback": [
      "\u001b[1;31m---------------------------------------------------------------------------\u001b[0m",
      "\u001b[1;31mNameError\u001b[0m                                 Traceback (most recent call last)",
      "\u001b[1;32m<ipython-input-10-a78b1fb2bab9>\u001b[0m in \u001b[0;36m<module>\u001b[1;34m\u001b[0m\n\u001b[1;32m----> 1\u001b[1;33m \u001b[0mos\u001b[0m\u001b[1;33m.\u001b[0m\u001b[0mgetcwd\u001b[0m\u001b[1;33m(\u001b[0m\u001b[1;33m)\u001b[0m\u001b[1;33m\u001b[0m\u001b[1;33m\u001b[0m\u001b[0m\n\u001b[0m",
      "\u001b[1;31mNameError\u001b[0m: name 'os' is not defined"
     ]
    }
   ],
   "source": [
    "os.getcwd()"
   ]
  },
  {
   "cell_type": "markdown",
   "metadata": {},
   "source": [
    "<b>os.listdir(path='.')</b>\n",
    "Return a list containing the names of the entries in the directory given by path. The list is in arbitrary order, and does not include the special entries '.' and '..' even if they are present in the directory. If a file is removed from or added to the directory during the call of this function, whether a name for that file be included is unspecified."
   ]
  },
  {
   "cell_type": "code",
   "execution_count": 6,
   "metadata": {},
   "outputs": [
    {
     "data": {
      "text/plain": [
       "['$Recycle.Bin',\n",
       " 'Documents and Settings',\n",
       " 'hiberfil.sys',\n",
       " 'Install',\n",
       " 'Intel',\n",
       " 'LocalDocuments',\n",
       " 'OneDriveTemp',\n",
       " 'pagefile.sys',\n",
       " 'PerfLogs',\n",
       " 'Program Files',\n",
       " 'Program Files (x86)',\n",
       " 'ProgramData',\n",
       " 'Recovery',\n",
       " 'swapfile.sys',\n",
       " 'System Volume Information',\n",
       " 'TalendConfigs',\n",
       " 'TalendJars',\n",
       " 'trdock_debug.log',\n",
       " 'Users',\n",
       " 'Windows']"
      ]
     },
     "execution_count": 6,
     "metadata": {},
     "output_type": "execute_result"
    }
   ],
   "source": [
    "os.listdir('.')"
   ]
  },
  {
   "cell_type": "code",
   "execution_count": 7,
   "metadata": {},
   "outputs": [
    {
     "data": {
      "text/plain": [
       "'C:\\\\Users\\\\Developer\\\\Downloads'"
      ]
     },
     "execution_count": 7,
     "metadata": {},
     "output_type": "execute_result"
    }
   ],
   "source": [
    "os.fspath('C:\\\\Users\\\\Developer\\\\Downloads')"
   ]
  },
  {
   "cell_type": "markdown",
   "metadata": {},
   "source": [
    "<b>os.getlogin():</b> Return the name of the user logged in on the controlling terminal of the process."
   ]
  },
  {
   "cell_type": "code",
   "execution_count": 8,
   "metadata": {},
   "outputs": [
    {
     "data": {
      "text/plain": [
       "'Developer'"
      ]
     },
     "execution_count": 8,
     "metadata": {},
     "output_type": "execute_result"
    }
   ],
   "source": [
    "os.getlogin()"
   ]
  },
  {
   "cell_type": "markdown",
   "metadata": {},
   "source": [
    "<b>os.getppid():</b> Return the parent’s process id. When the parent process has exited, on Unix the id returned is the one of the init process (1), on Windows it is still the same id, which may be already reused by another process."
   ]
  },
  {
   "cell_type": "code",
   "execution_count": 9,
   "metadata": {},
   "outputs": [
    {
     "data": {
      "text/plain": [
       "17504"
      ]
     },
     "execution_count": 9,
     "metadata": {},
     "output_type": "execute_result"
    }
   ],
   "source": [
    "os.getppid()"
   ]
  },
  {
   "cell_type": "code",
   "execution_count": 10,
   "metadata": {},
   "outputs": [
    {
     "name": "stderr",
     "output_type": "stream",
     "text": [
      "C:\\Users\\Developer\\anaconda3\\lib\\site-packages\\ipykernel_launcher.py:1: DeprecationWarning: The Windows bytes API has been deprecated, use Unicode filenames instead\n",
      "  \"\"\"Entry point for launching an IPython kernel.\n"
     ]
    },
    {
     "data": {
      "text/plain": [
       "b'C:\\\\'"
      ]
     },
     "execution_count": 10,
     "metadata": {},
     "output_type": "execute_result"
    }
   ],
   "source": [
    "os.getcwdb()"
   ]
  },
  {
   "cell_type": "markdown",
   "metadata": {},
   "source": [
    "<b>os.times():</b> Returns the current global process times. The return value is an object with five attributes:\n",
    "<li>\n",
    "user - user time\n",
    "<li>\n",
    "system - system time\n",
    "<li>\n",
    "children_user - user time of all child processes\n",
    "<li>\n",
    "children_system - system time of all child processes\n",
    "<li>\n",
    "elapsed - elapsed real time since a fixed point in the past"
   ]
  },
  {
   "cell_type": "code",
   "execution_count": 11,
   "metadata": {},
   "outputs": [
    {
     "data": {
      "text/plain": [
       "nt.times_result(user=1.296875, system=1.015625, children_user=0.0, children_system=0.0, elapsed=0.0)"
      ]
     },
     "execution_count": 11,
     "metadata": {},
     "output_type": "execute_result"
    }
   ],
   "source": [
    "os.times()"
   ]
  },
  {
   "cell_type": "markdown",
   "metadata": {},
   "source": [
    "<b>os.walk()</b> defaults to traversing directories in a top-down manner<br>\n",
    "os.walk() returns three values on each iteration of the loop:\n",
    "\n",
    "1. The name of the current folder\n",
    "\n",
    "2. A list of folders in the current folder\n",
    "\n",
    "3. A list of files in the current folder\n",
    "\n",
    "On each iteration, it prints out the names of the subdirectories and files it finds:\n"
   ]
  },
  {
   "cell_type": "code",
   "execution_count": 18,
   "metadata": {},
   "outputs": [
    {
     "name": "stdout",
     "output_type": "stream",
     "text": [
      "Found directory: .\n",
      "Found directory: .\\course-handbook\n",
      "Found directory: .\\course-handbook\\.git\n",
      "config\n",
      "description\n",
      "FETCH_HEAD\n",
      "HEAD\n",
      "index\n",
      "packed-refs\n",
      "Found directory: .\\course-handbook\\.git\\hooks\n",
      "applypatch-msg.sample\n",
      "commit-msg.sample\n",
      "fsmonitor-watchman.sample\n",
      "post-update.sample\n",
      "pre-applypatch.sample\n",
      "pre-commit.sample\n",
      "pre-merge-commit.sample\n",
      "pre-push.sample\n",
      "pre-rebase.sample\n",
      "pre-receive.sample\n",
      "prepare-commit-msg.sample\n",
      "update.sample\n",
      "Found directory: .\\course-handbook\\.git\\info\n",
      "exclude\n",
      "Found directory: .\\course-handbook\\.git\\logs\n",
      "HEAD\n",
      "Found directory: .\\course-handbook\\.git\\logs\\refs\n",
      "Found directory: .\\course-handbook\\.git\\logs\\refs\\heads\n",
      "master\n",
      "tushar_dev\n",
      "Found directory: .\\course-handbook\\.git\\logs\\refs\\remotes\n",
      "Found directory: .\\course-handbook\\.git\\logs\\refs\\remotes\\origin\n",
      "HEAD\n",
      "Found directory: .\\course-handbook\\.git\\logs\\refs\\remotes\\upstream\n",
      "loki_dev\n",
      "master\n",
      "tushar_dev\n",
      "Found directory: .\\course-handbook\\.git\\objects\n",
      "Found directory: .\\course-handbook\\.git\\objects\\3f\n",
      "1e58ac225f364e2898dce20fa01ae75b47ad73\n",
      "Found directory: .\\course-handbook\\.git\\objects\\42\n",
      "1f9a043a4cecab2dcd607b1017d5be012dfa5d\n",
      "Found directory: .\\course-handbook\\.git\\objects\\info\n",
      "Found directory: .\\course-handbook\\.git\\objects\\pack\n",
      "pack-9a1902c66d9dcf8ad2c4a90453c30bf4b828c2b1.idx\n",
      "pack-9a1902c66d9dcf8ad2c4a90453c30bf4b828c2b1.pack\n",
      "Found directory: .\\course-handbook\\.git\\refs\n",
      "Found directory: .\\course-handbook\\.git\\refs\\heads\n",
      "master\n",
      "tushar_dev\n",
      "Found directory: .\\course-handbook\\.git\\refs\\remotes\n",
      "Found directory: .\\course-handbook\\.git\\refs\\remotes\\origin\n",
      "HEAD\n",
      "Found directory: .\\course-handbook\\.git\\refs\\remotes\\upstream\n",
      "loki_dev\n",
      "master\n",
      "tushar_dev\n",
      "Found directory: .\\course-handbook\\.git\\refs\\tags\n",
      "Found directory: .\\course-handbook\\Python\n",
      ".gitignore\n",
      "contents.md\n",
      "README.md\n",
      "Found directory: .\\course-handbook\\Python\\Materials & Documents\n",
      "Python_Exercise.pptx\n",
      "Python_Training_Material.pptx\n",
      "Found directory: .\\course-handbook\\Python\\Notebooks\n",
      "Containers.ipynb\n",
      "Extensions.ipynb\n",
      "Extensions_2.ipynb\n",
      "learning-python3.ipynb\n",
      "Untitled.ipynb\n",
      "Found directory: .\\course-handbook\\Python\\Notebooks\\.ipynb_checkpoints\n",
      "containers-101-2x-checkpoint.png\n",
      "Containers-checkpoint.ipynb\n",
      "contents-checkpoint.md\n",
      "Extensions-checkpoint.ipynb\n",
      "Extensions_2-checkpoint.ipynb\n",
      "learning-python3-checkpoint.ipynb\n",
      "README-checkpoint.md\n",
      "Untitled-checkpoint.ipynb\n"
     ]
    }
   ],
   "source": [
    "# Walking a directory tree and printing the names of the directories and files\n",
    "os.chdir(\"C:/Users/Developer/Downloads/Python/\")\n",
    "for dirpath, dirnames, files in os.walk('.'):\n",
    "    print(f'Found directory: {dirpath}')\n",
    "    for file_name in files:\n",
    "        print(file_name)"
   ]
  },
  {
   "cell_type": "markdown",
   "metadata": {},
   "source": [
    "Lets see few examples of creating a directory, file, writing content into it"
   ]
  },
  {
   "cell_type": "code",
   "execution_count": 22,
   "metadata": {},
   "outputs": [
    {
     "name": "stdout",
     "output_type": "stream",
     "text": [
      "Path is created\n"
     ]
    }
   ],
   "source": [
    "path = \"C:/Users/Developer/Downloads/Sample\"\n",
    "os.mkdir( path);\n",
    "\n",
    "print (\"Path is created\")"
   ]
  },
  {
   "cell_type": "code",
   "execution_count": 28,
   "metadata": {},
   "outputs": [
    {
     "name": "stdout",
     "output_type": "stream",
     "text": [
      "Sample\n"
     ]
    }
   ],
   "source": [
    "with os.scandir('C:/Users/Developer/Downloads/') as it:\n",
    "    for entry in it:\n",
    "        if entry.name.startswith('Sample') and entry.is_dir():\n",
    "            print(entry.name)"
   ]
  },
  {
   "cell_type": "markdown",
   "metadata": {},
   "source": [
    "<b>open():</b> opens the file file and set various flags according to flags and possibly its mode according to mode.The default mode is 0777 (octal), and the current umask value is first masked out.\n",
    "\n",
    "Following is the syntax for open() method −<br>\n",
    "<code>os.open(file, flags[, mode])</code>\n",
    "Parameters\n",
    "file − File name to be opened.\n",
    "\n",
    "flags − The following constants are options for the flags. They can be combined using the bitwise OR operator |. Some of them are not available on all platforms.\n",
    "\n",
    "os.O_RDONLY − open for reading only\n",
    "\n",
    "os.O_WRONLY − open for writing only\n",
    "\n",
    "os.O_RDWR − open for reading and writing\n",
    "\n",
    "os.O_NONBLOCK − do not block on open\n",
    "\n",
    "os.O_APPEND − append on each write\n",
    "\n",
    "os.O_CREAT − create file if it does not exist\n",
    "\n",
    "os.O_TRUNC − truncate size to 0\n",
    "\n",
    "os.O_EXCL − error if create and file exists\n",
    "\n",
    "os.O_SHLOCK − atomically obtain a shared lock\n",
    "\n",
    "os.O_EXLOCK − atomically obtain an exclusive lock\n",
    "\n",
    "os.O_DIRECT − eliminate or reduce cache effects\n",
    "\n",
    "os.O_FSYNC − synchronous writes\n",
    "\n",
    "os.O_NOFOLLOW − do not follow symlinks\n",
    "\n",
    "mode − This work in similar way as it works for chmod() method."
   ]
  },
  {
   "cell_type": "code",
   "execution_count": 39,
   "metadata": {},
   "outputs": [
    {
     "name": "stdout",
     "output_type": "stream",
     "text": [
      "Closed the file successfully!!\n"
     ]
    }
   ],
   "source": [
    "# Open a file\n",
    "fd = os.open(\"C:/Users/Developer/Downloads/Sample/test_file.txt\", os.O_RDWR|os.O_CREAT)\n",
    "\n",
    "# Write one string\n",
    "str = b'This is test'\n",
    "os.write(fd, str)\n",
    "\n",
    "# Close opened file\n",
    "os.close( fd )\n",
    "\n",
    "print (\"Closed the file successfully!!\")"
   ]
  },
  {
   "cell_type": "code",
   "execution_count": 45,
   "metadata": {},
   "outputs": [
    {
     "name": "stdout",
     "output_type": "stream",
     "text": [
      "b'This is test'\n",
      "Closed the file successfully!!\n"
     ]
    }
   ],
   "source": [
    "# Open a file\n",
    "fd = os.open(\"C:/Users/Developer/Downloads/Sample/test_file.txt\", os.O_RDWR)\n",
    "\n",
    "# Reading text\n",
    "ret = os.read(fd,15)\n",
    "print (ret)\n",
    "\n",
    "# Close opened file\n",
    "os.close(fd)\n",
    "print (\"Closed the file successfully!!\")"
   ]
  },
  {
   "cell_type": "markdown",
   "metadata": {},
   "source": [
    "<b>os.error:</b> All functions in this module raise OSError in the case of invalid or inaccessible file names and paths, or other arguments that have the correct type, but are not accepted by the operating system. os.error is an alias for built-in OSError exception."
   ]
  },
  {
   "cell_type": "code",
   "execution_count": 15,
   "metadata": {},
   "outputs": [
    {
     "name": "stdout",
     "output_type": "stream",
     "text": [
      "<class 'OSError'>\n",
      "Problem reading: Sample.txt\n"
     ]
    }
   ],
   "source": [
    "try: \n",
    "    # If the file does not exist, \n",
    "    # then it would throw an IOError \n",
    "    filename = 'Sample.txt'\n",
    "    f = open(filename, 'r') \n",
    "    text = f.read() \n",
    "    f.close() \n",
    "  \n",
    "# Control jumps directly to here if  \n",
    "#any of the above lines throws IOError.     \n",
    "except IOError: \n",
    "  \n",
    "    print(os.error)\n",
    "    print('Problem reading: ' + filename) "
   ]
  },
  {
   "cell_type": "markdown",
   "metadata": {},
   "source": [
    "## SYS Module\n",
    "The sys module provides functions and variables used to manipulate different parts of the Python runtime environment"
   ]
  },
  {
   "cell_type": "code",
   "execution_count": 2,
   "metadata": {},
   "outputs": [],
   "source": [
    "import sys"
   ]
  },
  {
   "cell_type": "markdown",
   "metadata": {},
   "source": [
    "<b>sys.modules:</b> This function gives the names of the existing python modules current shell has imported"
   ]
  },
  {
   "cell_type": "code",
   "execution_count": 2,
   "metadata": {},
   "outputs": [
    {
     "data": {
      "text/plain": [
       "dict_keys(['sys', 'builtins', '_frozen_importlib', '_imp', '_thread', '_warnings', '_weakref', 'zipimport', '_frozen_importlib_external', '_io', 'marshal', 'nt', 'winreg', 'encodings', 'codecs', '_codecs', 'encodings.aliases', 'encodings.utf_8', '_signal', '__main__', 'encodings.latin_1', 'io', 'abc', '_abc', '_bootlocale', '_locale', 'encodings.cp1252', 'site', 'os', 'stat', '_stat', 'ntpath', 'genericpath', 'os.path', '_collections_abc', '_sitebuiltins', 'types', 'importlib', 'importlib._bootstrap', 'importlib._bootstrap_external', 'warnings', 'importlib.util', 'importlib.abc', 'importlib.machinery', 'contextlib', 'collections', 'operator', '_operator', 'keyword', 'heapq', '_heapq', 'itertools', 'reprlib', '_collections', 'functools', '_functools', 'mpl_toolkits', 'sphinxcontrib', 'runpy', 'pkgutil', 'weakref', '_weakrefset', 'ipykernel', 'ipykernel._version', 'ipykernel.connect', '__future__', 'json', 'json.decoder', 're', 'enum', 'sre_compile', '_sre', 'sre_parse', 'sre_constants', 'copyreg', 'json.scanner', '_json', 'json.encoder', 'subprocess', 'time', 'signal', 'errno', 'threading', 'traceback', 'linecache', 'tokenize', 'token', 'msvcrt', '_winapi', 'IPython', 'IPython.core', 'IPython.core.getipython', 'IPython.core.release', 'IPython.core.application', 'atexit', 'copy', 'glob', 'fnmatch', 'posixpath', 'logging', 'collections.abc', 'string', '_string', 'shutil', 'zlib', 'bz2', '_compression', '_bz2', 'lzma', '_lzma', 'traitlets', 'traitlets.traitlets', 'inspect', 'dis', 'opcode', '_opcode', 'six', 'struct', '_struct', 'traitlets.utils', 'traitlets.utils.getargspec', 'traitlets.utils.importstring', 'ipython_genutils', 'ipython_genutils._version', 'ipython_genutils.py3compat', 'ipython_genutils.encoding', 'locale', 'platform', 'traitlets.utils.sentinel', 'traitlets.utils.bunch', 'traitlets._version', 'traitlets.config', 'traitlets.config.application', 'decorator', 'traitlets.config.configurable', 'traitlets.config.loader', 'argparse', 'gettext', 'ast', '_ast', 'ipython_genutils.path', 'random', 'math', 'hashlib', '_hashlib', '_blake2', '_sha3', 'bisect', '_bisect', '_random', 'ipython_genutils.text', 'textwrap', 'ipython_genutils.importstring', 'IPython.core.crashhandler', 'pprint', 'IPython.core.ultratb', 'pydoc', 'urllib', 'urllib.parse', 'IPython.core.debugger', 'bdb', 'IPython.utils', 'IPython.utils.PyColorize', 'IPython.utils.coloransi', 'IPython.utils.ipstruct', 'IPython.utils.colorable', 'pygments', 'pygments.util', 'IPython.utils.py3compat', 'IPython.utils.encoding', 'IPython.core.excolors', 'IPython.testing', 'IPython.testing.skipdoctest', 'pdb', 'cmd', 'code', 'codeop', 'IPython.core.display_trap', 'IPython.utils.path', 'IPython.utils.process', 'IPython.utils._process_win32', 'ctypes', '_ctypes', 'ctypes._endian', 'ctypes.wintypes', 'IPython.utils._process_common', 'shlex', 'IPython.utils.decorators', 'IPython.utils.data', 'IPython.utils.terminal', 'IPython.utils.sysinfo', 'IPython.utils._sysinfo', 'IPython.core.profiledir', 'IPython.paths', 'tempfile', 'IPython.utils.importstring', 'IPython.terminal', 'IPython.terminal.embed', 'IPython.core.compilerop', 'IPython.core.magic_arguments', 'IPython.core.error', 'IPython.utils.text', 'pathlib', 'IPython.core.magic', 'getopt', 'IPython.core.oinspect', 'typing', 'typing.io', 'typing.re', 'IPython.core.page', 'IPython.core.display', 'binascii', 'mimetypes', 'IPython.lib', 'IPython.lib.security', 'getpass', 'IPython.lib.pretty', 'datetime', '_datetime', 'IPython.utils.openpy', 'IPython.utils.dir2', 'IPython.utils.wildcard', 'pygments.lexers', 'pygments.lexers._mapping', 'pygments.modeline', 'pygments.plugin', 'pygments.lexers.python', 'pygments.lexer', 'pygments.filter', 'pygments.filters', 'pygments.token', 'pygments.regexopt', 'pygments.unistring', 'pygments.formatters', 'pygments.formatters._mapping', 'pygments.formatters.html', 'pygments.formatter', 'pygments.styles', 'IPython.core.inputtransformer2', 'IPython.core.interactiveshell', 'pickleshare', 'pickle', '_compat_pickle', '_pickle', 'IPython.core.prefilter', 'IPython.core.autocall', 'IPython.core.macro', 'IPython.core.splitinput', 'IPython.core.alias', 'IPython.core.builtin_trap', 'IPython.core.events', 'backcall', 'backcall.backcall', 'IPython.core.displayhook', 'IPython.core.displaypub', 'IPython.core.extensions', 'IPython.core.formatters', 'IPython.utils.sentinel', 'IPython.core.history', 'sqlite3', 'sqlite3.dbapi2', '_sqlite3', 'IPython.core.logger', 'IPython.core.payload', 'IPython.core.usage', 'IPython.display', 'IPython.lib.display', 'html', 'html.entities', 'IPython.utils.io', 'IPython.utils.capture', 'IPython.utils.strdispatch', 'IPython.core.hooks', 'IPython.utils.syspathcontext', 'IPython.utils.tempdir', 'IPython.utils.contexts', 'IPython.core.async_helpers', 'IPython.terminal.interactiveshell', 'asyncio', 'asyncio.base_events', 'concurrent', 'concurrent.futures', 'concurrent.futures._base', 'socket', '_socket', 'selectors', 'select', 'ssl', '_ssl', 'base64', 'asyncio.constants', 'asyncio.coroutines', 'asyncio.base_futures', 'asyncio.format_helpers', 'asyncio.log', 'asyncio.events', 'contextvars', '_contextvars', 'asyncio.base_tasks', '_asyncio', 'asyncio.futures', 'asyncio.protocols', 'asyncio.sslproto', 'asyncio.transports', 'asyncio.tasks', 'asyncio.locks', 'asyncio.runners', 'asyncio.queues', 'asyncio.streams', 'asyncio.subprocess', 'asyncio.windows_events', '_overlapped', 'asyncio.base_subprocess', 'asyncio.proactor_events', 'asyncio.selector_events', 'asyncio.windows_utils', 'prompt_toolkit', 'prompt_toolkit.application', 'prompt_toolkit.application.application', 'prompt_toolkit.buffer', 'prompt_toolkit.application.current', 'prompt_toolkit.application.run_in_terminal', 'prompt_toolkit.eventloop', 'prompt_toolkit.eventloop.async_generator', 'prompt_toolkit.eventloop.utils', 'prompt_toolkit.eventloop.inputhook', 'prompt_toolkit.utils', 'wcwidth', 'wcwidth.wcwidth', 'wcwidth.table_wide', 'wcwidth.table_zero', 'prompt_toolkit.auto_suggest', 'prompt_toolkit.document', 'prompt_toolkit.clipboard', 'prompt_toolkit.clipboard.base', 'prompt_toolkit.selection', 'prompt_toolkit.clipboard.in_memory', 'prompt_toolkit.filters', 'prompt_toolkit.filters.app', 'prompt_toolkit.cache', 'prompt_toolkit.enums', 'prompt_toolkit.filters.base', 'prompt_toolkit.filters.cli', 'prompt_toolkit.filters.utils', 'prompt_toolkit.completion', 'prompt_toolkit.completion.base', 'prompt_toolkit.formatted_text', 'prompt_toolkit.formatted_text.ansi', 'prompt_toolkit.output', 'prompt_toolkit.output.base', 'prompt_toolkit.data_structures', 'prompt_toolkit.styles', 'prompt_toolkit.styles.base', 'prompt_toolkit.styles.defaults', 'prompt_toolkit.styles.named_colors', 'prompt_toolkit.styles.style', 'prompt_toolkit.styles.pygments', 'prompt_toolkit.styles.style_transformation', 'colorsys', 'prompt_toolkit.output.color_depth', 'prompt_toolkit.output.defaults', 'prompt_toolkit.patch_stdout', 'prompt_toolkit.output.vt100', 'array', 'prompt_toolkit.formatted_text.base', 'prompt_toolkit.mouse_events', 'prompt_toolkit.formatted_text.html', 'xml', 'xml.dom', 'xml.dom.domreg', 'xml.dom.minidom', 'xml.dom.minicompat', 'xml.dom.xmlbuilder', 'xml.dom.NodeFilter', 'prompt_toolkit.formatted_text.pygments', 'prompt_toolkit.formatted_text.utils', 'prompt_toolkit.completion.filesystem', 'prompt_toolkit.completion.fuzzy_completer', 'prompt_toolkit.completion.word_completer', 'prompt_toolkit.completion.nested', 'prompt_toolkit.history', 'prompt_toolkit.search', 'prompt_toolkit.key_binding', 'prompt_toolkit.key_binding.key_bindings', 'prompt_toolkit.keys', 'prompt_toolkit.key_binding.key_processor', 'prompt_toolkit.key_binding.vi_state', 'prompt_toolkit.validation', 'prompt_toolkit.input', 'prompt_toolkit.input.base', 'prompt_toolkit.input.defaults', 'prompt_toolkit.input.typeahead', 'prompt_toolkit.key_binding.bindings', 'prompt_toolkit.key_binding.bindings.page_navigation', 'prompt_toolkit.key_binding.bindings.scroll', 'prompt_toolkit.key_binding.defaults', 'prompt_toolkit.key_binding.bindings.basic', 'prompt_toolkit.key_binding.bindings.named_commands', 'prompt_toolkit.layout', 'prompt_toolkit.layout.containers', 'prompt_toolkit.layout.controls', 'prompt_toolkit.lexers', 'prompt_toolkit.lexers.base', 'prompt_toolkit.lexers.pygments', 'prompt_toolkit.layout.processors', 'prompt_toolkit.layout.utils', 'prompt_toolkit.layout.dimension', 'prompt_toolkit.layout.margins', 'prompt_toolkit.layout.mouse_handlers', 'prompt_toolkit.layout.screen', 'prompt_toolkit.layout.layout', 'prompt_toolkit.layout.menus', 'prompt_toolkit.key_binding.bindings.completion', 'prompt_toolkit.key_binding.bindings.cpr', 'prompt_toolkit.key_binding.bindings.emacs', 'prompt_toolkit.key_binding.bindings.mouse', 'prompt_toolkit.key_binding.bindings.vi', 'prompt_toolkit.input.vt100_parser', 'prompt_toolkit.input.ansi_escape_sequences', 'prompt_toolkit.key_binding.digraphs', 'prompt_toolkit.key_binding.emacs_state', 'prompt_toolkit.layout.dummy', 'prompt_toolkit.renderer', 'prompt_toolkit.application.dummy', 'prompt_toolkit.shortcuts', 'prompt_toolkit.shortcuts.dialogs', 'prompt_toolkit.key_binding.bindings.focus', 'prompt_toolkit.widgets', 'prompt_toolkit.widgets.base', 'prompt_toolkit.widgets.toolbars', 'prompt_toolkit.widgets.dialogs', 'prompt_toolkit.widgets.menus', 'prompt_toolkit.shortcuts.progress_bar', 'prompt_toolkit.shortcuts.progress_bar.base', 'prompt_toolkit.shortcuts.progress_bar.formatters', 'prompt_toolkit.shortcuts.prompt', 'prompt_toolkit.key_binding.bindings.auto_suggest', 'prompt_toolkit.key_binding.bindings.open_in_editor', 'prompt_toolkit.shortcuts.utils', 'pygments.style', 'IPython.terminal.debugger', 'IPython.core.completer', 'unicodedata', 'IPython.core.latex_symbols', 'IPython.utils.generics', 'jedi', 'jedi.api', 'parso', 'parso.parser', 'parso.tree', 'parso._compatibility', 'parso.utils', 'parso.pgen2', 'parso.pgen2.generator', 'parso.pgen2.grammar_parser', 'parso.python', 'parso.python.tokenize', 'parso.python.token', 'parso.grammar', 'parso.python.diff', 'difflib', 'parso.python.parser', 'parso.python.tree', 'parso.python.prefix', 'parso.cache', 'gc', 'parso.python.errors', 'parso.normalizer', 'parso.python.pep8', 'parso.file_io', 'jedi._compatibility', 'jedi.file_io', 'queue', '_queue', 'jedi.parser_utils', 'jedi.debug', 'jedi.settings', 'jedi.cache', 'jedi.api.classes', 'jedi.evaluate', 'jedi.evaluate.utils', 'jedi.evaluate.imports', 'jedi.evaluate.sys_path', 'jedi.evaluate.cache', 'jedi.evaluate.base_context', 'jedi.common', 'jedi.common.context', 'jedi.evaluate.helpers', 'jedi.common.utils', 'jedi.evaluate.compiled', 'jedi.evaluate.compiled.context', 'jedi.evaluate.filters', 'jedi.evaluate.flow_analysis', 'jedi.evaluate.recursion', 'jedi.evaluate.names', 'jedi.evaluate.lazy_context', 'jedi.evaluate.compiled.access', 'jedi.evaluate.compiled.getattr_static', 'jedi.evaluate.signature', 'jedi.evaluate.analysis', 'jedi.evaluate.gradual', 'jedi.evaluate.gradual.typeshed', 'jedi.evaluate.gradual.stub_context', 'jedi.evaluate.context', 'jedi.evaluate.context.module', 'jedi.evaluate.context.klass', 'jedi.evaluate.arguments', 'jedi.evaluate.context.iterable', 'jedi.evaluate.param', 'jedi.evaluate.docstrings', 'jedi.evaluate.context.function', 'jedi.evaluate.parser_cache', 'jedi.evaluate.context.instance', 'jedi.evaluate.gradual.typing', 'jedi.evaluate.syntax_tree', 'jedi.evaluate.finder', 'jedi.evaluate.gradual.conversion', 'jedi.evaluate.gradual.annotation', 'jedi.api.keywords', 'pydoc_data', 'pydoc_data.topics', 'jedi.api.interpreter', 'jedi.evaluate.compiled.mixed', 'jedi.api.helpers', 'jedi.api.completion', 'jedi.api.environment', 'filecmp', 'jedi.evaluate.compiled.subprocess', 'jedi.evaluate.compiled.subprocess.functions', 'jedi.api.exceptions', 'jedi.api.project', 'jedi.evaluate.usages', 'jedi.evaluate.gradual.utils', 'IPython.terminal.ptutils', 'IPython.terminal.shortcuts', 'IPython.lib.clipboard', 'IPython.terminal.magics', 'IPython.terminal.pt_inputhooks', 'IPython.terminal.prompts', 'IPython.terminal.ipapp', 'IPython.core.magics', 'IPython.core.magics.auto', 'IPython.core.magics.basic', 'IPython.core.magics.code', 'urllib.request', 'email', 'http', 'http.client', 'email.parser', 'email.feedparser', 'email.errors', 'email._policybase', 'email.header', 'email.quoprimime', 'email.base64mime', 'email.charset', 'email.encoders', 'quopri', 'email.utils', 'email._parseaddr', 'calendar', 'email.message', 'uu', 'email._encoded_words', 'email.iterators', 'urllib.error', 'urllib.response', 'nturl2path', 'IPython.core.magics.config', 'IPython.core.magics.display', 'IPython.core.magics.execution', 'timeit', 'cProfile', '_lsprof', 'profile', 'pstats', 'IPython.utils.module_paths', 'IPython.utils.timing', 'IPython.core.magics.extension', 'IPython.core.magics.history', 'IPython.core.magics.logging', 'IPython.core.magics.namespace', 'IPython.core.magics.osm', 'IPython.core.magics.packaging', 'IPython.core.magics.pylab', 'IPython.core.pylabtools', 'IPython.core.magics.script', 'IPython.lib.backgroundjobs', 'IPython.core.shellapp', 'IPython.extensions', 'IPython.extensions.storemagic', 'IPython.utils.frame', 'jupyter_client', 'jupyter_client._version', 'jupyter_client.connect', 'zmq', 'zmq.backend', 'zmq.backend.select', 'zmq.backend.cython', 'zmq.backend.cython.constants', 'cython_runtime', 'zmq.backend.cython.error', '_cython_0_29_14', 'zmq.backend.cython.message', 'zmq.error', 'zmq.backend.cython.context', 'zmq.backend.cython.socket', 'zmq.backend.cython.utils', 'zmq.backend.cython._poll', 'zmq.backend.cython._version', 'zmq.backend.cython._device', 'zmq.backend.cython._proxy_steerable', 'zmq.sugar', 'zmq.sugar.constants', 'zmq.utils', 'zmq.utils.constant_names', 'zmq.sugar.context', 'zmq.sugar.attrsettr', 'zmq.sugar.socket', 'zmq.sugar.poll', 'zmq.utils.jsonapi', 'zmq.utils.strtypes', 'zmq.sugar.frame', 'zmq.sugar.tracker', 'zmq.sugar.version', 'zmq.sugar.stopwatch', 'jupyter_client.localinterfaces', 'jupyter_core', 'jupyter_core.version', 'jupyter_core.paths', 'jupyter_client.launcher', 'traitlets.log', 'jupyter_client.client', 'jupyter_client.channels', 'jupyter_client.channelsabc', 'jupyter_client.clientabc', 'jupyter_client.manager', 'jupyter_client.kernelspec', 'jupyter_client.managerabc', 'jupyter_client.blocking', 'jupyter_client.blocking.client', 'jupyter_client.blocking.channels', 'jupyter_client.multikernelmanager', 'uuid', 'ipykernel.kernelapp', 'tornado', 'tornado.ioloop', 'numbers', 'tornado.concurrent', 'tornado.log', 'logging.handlers', 'tornado.escape', 'tornado.util', 'tornado.speedups', 'colorama', 'colorama.initialise', 'colorama.ansitowin32', 'colorama.ansi', 'colorama.winterm', 'colorama.win32', 'zmq.eventloop', 'zmq.eventloop.ioloop', 'tornado.platform', 'tornado.platform.asyncio', 'tornado.gen', 'zmq.eventloop.zmqstream', 'ipykernel.iostream', 'imp', 'jupyter_client.session', 'hmac', 'jupyter_client.jsonutil', 'dateutil', 'dateutil._version', 'dateutil.parser', 'dateutil.parser._parser', 'decimal', '_decimal', 'dateutil.relativedelta', 'dateutil._common', 'dateutil.tz', 'dateutil.tz.tz', 'six.moves', 'dateutil.tz._common', 'dateutil.tz._factories', 'dateutil.tz.win', 'dateutil.parser.isoparser', '_strptime', 'jupyter_client.adapter', 'ipykernel.heartbeat', 'ipykernel.ipkernel', 'IPython.utils.tokenutil', 'ipykernel.comm', 'ipykernel.comm.manager', 'ipykernel.comm.comm', 'ipykernel.kernelbase', 'tornado.queues', 'tornado.locks', 'ipykernel.jsonutil', 'ipykernel.zmqshell', 'IPython.core.payloadpage', 'ipykernel.displayhook', 'ipykernel.eventloops', 'distutils', 'distutils.version', 'ipykernel.parentpoller', 'win32api', 'win32security', 'ntsecuritycon', 'faulthandler', 'ipykernel.datapub', 'ipykernel.serialize', 'ipykernel.pickleutil', 'ipykernel.codeutil', 'IPython.core.completerlib', 'storemagic'])"
      ]
     },
     "execution_count": 2,
     "metadata": {},
     "output_type": "execute_result"
    }
   ],
   "source": [
    "sys.modules.keys()"
   ]
  },
  {
   "cell_type": "markdown",
   "metadata": {},
   "source": [
    "<b>sys.path:</b> This is an environment variable that is a search path for all Python modules."
   ]
  },
  {
   "cell_type": "code",
   "execution_count": 3,
   "metadata": {},
   "outputs": [
    {
     "data": {
      "text/plain": [
       "['C:\\\\Users\\\\Developer\\\\Downloads\\\\Python\\\\course-handbook\\\\Python\\\\Notebooks',\n",
       " 'C:\\\\Users\\\\Developer\\\\anaconda3\\\\python37.zip',\n",
       " 'C:\\\\Users\\\\Developer\\\\anaconda3\\\\DLLs',\n",
       " 'C:\\\\Users\\\\Developer\\\\anaconda3\\\\lib',\n",
       " 'C:\\\\Users\\\\Developer\\\\anaconda3',\n",
       " '',\n",
       " 'C:\\\\Users\\\\Developer\\\\anaconda3\\\\lib\\\\site-packages',\n",
       " 'C:\\\\Users\\\\Developer\\\\anaconda3\\\\lib\\\\site-packages\\\\win32',\n",
       " 'C:\\\\Users\\\\Developer\\\\anaconda3\\\\lib\\\\site-packages\\\\win32\\\\lib',\n",
       " 'C:\\\\Users\\\\Developer\\\\anaconda3\\\\lib\\\\site-packages\\\\Pythonwin',\n",
       " 'C:\\\\Users\\\\Developer\\\\anaconda3\\\\lib\\\\site-packages\\\\IPython\\\\extensions',\n",
       " 'C:\\\\Users\\\\Developer\\\\.ipython']"
      ]
     },
     "execution_count": 3,
     "metadata": {},
     "output_type": "execute_result"
    }
   ],
   "source": [
    "sys.path"
   ]
  },
  {
   "cell_type": "markdown",
   "metadata": {},
   "source": [
    "<b>sys.copyright:</b> This String just displays the copyright information on currently installed Python version"
   ]
  },
  {
   "cell_type": "code",
   "execution_count": 4,
   "metadata": {},
   "outputs": [
    {
     "data": {
      "text/plain": [
       "'Copyright (c) 2001-2019 Python Software Foundation.\\nAll Rights Reserved.\\n\\nCopyright (c) 2000 BeOpen.com.\\nAll Rights Reserved.\\n\\nCopyright (c) 1995-2001 Corporation for National Research Initiatives.\\nAll Rights Reserved.\\n\\nCopyright (c) 1991-1995 Stichting Mathematisch Centrum, Amsterdam.\\nAll Rights Reserved.'"
      ]
     },
     "execution_count": 4,
     "metadata": {},
     "output_type": "execute_result"
    }
   ],
   "source": [
    "sys.copyright"
   ]
  },
  {
   "cell_type": "markdown",
   "metadata": {},
   "source": [
    "<b>sys.version:</b> This attribute displays a string containing the version number of the current Python interpreter."
   ]
  },
  {
   "cell_type": "code",
   "execution_count": 3,
   "metadata": {},
   "outputs": [
    {
     "data": {
      "text/plain": [
       "'3.7.6 (default, Jan  8 2020, 20:23:39) [MSC v.1916 64 bit (AMD64)]'"
      ]
     },
     "execution_count": 3,
     "metadata": {},
     "output_type": "execute_result"
    }
   ],
   "source": [
    "sys.version"
   ]
  },
  {
   "cell_type": "markdown",
   "metadata": {},
   "source": [
    "<b>sys.maxsize:</b> Returns the largest integer a variable can take."
   ]
  },
  {
   "cell_type": "code",
   "execution_count": 4,
   "metadata": {},
   "outputs": [
    {
     "data": {
      "text/plain": [
       "9223372036854775807"
      ]
     },
     "execution_count": 4,
     "metadata": {},
     "output_type": "execute_result"
    }
   ],
   "source": [
    "sys.maxsize"
   ]
  },
  {
   "cell_type": "markdown",
   "metadata": {},
   "source": [
    "Most of the commands or functions from SYS module will work better when we call a python script from command line. So we will wrtite a python file using OS module and call it using command line."
   ]
  },
  {
   "cell_type": "markdown",
   "metadata": {},
   "source": [
    "<b>sys.argv:</b> This function collects the String arguments passed to the python script"
   ]
  },
  {
   "cell_type": "code",
   "execution_count": 5,
   "metadata": {},
   "outputs": [
    {
     "name": "stdout",
     "output_type": "stream",
     "text": [
      "Closed the file successfully!!\n"
     ]
    }
   ],
   "source": [
    "import os\n",
    "\n",
    "os.remove(\"C:/Users/Developer/Downloads/Sample/test_sys.py\")\n",
    "\n",
    "# Open a file\n",
    "fd = os.open(\"C:/Users/Developer/Downloads/Sample/test_sys.py\", os.O_RDWR|os.O_CREAT)\n",
    "\n",
    "# Write one string\n",
    "str = b\"\"\"import sys\n",
    "print('The command line arguments are:')\n",
    "for i in sys.argv:\n",
    "    print(i)\"\"\"\n",
    "os.write(fd, str)\n",
    "\n",
    "# Close opened file\n",
    "os.close( fd )\n",
    "\n",
    "print (\"Closed the file successfully!!\")"
   ]
  },
  {
   "cell_type": "code",
   "execution_count": 6,
   "metadata": {},
   "outputs": [
    {
     "name": "stdout",
     "output_type": "stream",
     "text": [
      "The command line arguments are:\n",
      "C:/Users/Developer/Downloads/Sample/test_sys.py\n",
      "Hello\n"
     ]
    }
   ],
   "source": [
    "!python C:/Users/Developer/Downloads/Sample/test_sys.py Hello"
   ]
  },
  {
   "cell_type": "code",
   "execution_count": 1,
   "metadata": {},
   "outputs": [
    {
     "name": "stdout",
     "output_type": "stream",
     "text": [
      "Closed the file successfully!!\n"
     ]
    }
   ],
   "source": [
    "import os\n",
    "\n",
    "os.remove(\"C:/Users/Developer/Downloads/Sample/test_sys.py\")\n",
    "\n",
    "# Open a file\n",
    "fd = os.open(\"C:/Users/Developer/Downloads/Sample/test_sys.py\", os.O_RDWR|os.O_CREAT)\n",
    "\n",
    "# Write one string\n",
    "str = b\"\"\"import sys\n",
    "user_input = sys.stdin.readline()\n",
    "print(\"Input : \" + user_input)\"\"\"\n",
    "os.write(fd, str)\n",
    "\n",
    "# Close opened file\n",
    "os.close( fd )\n",
    "\n",
    "print (\"Closed the file successfully!!\")"
   ]
  },
  {
   "cell_type": "code",
   "execution_count": null,
   "metadata": {},
   "outputs": [],
   "source": [
    "!python C:/Users/Developer/Downloads/Sample/test_sys.py Hello"
   ]
  },
  {
   "cell_type": "markdown",
   "metadata": {},
   "source": [
    "For more functions under SYS module, please refer below links:<br>\n",
    "https://www.javatpoint.com/python-sys-module<br>\n",
    "https://docs.python.org/3/library/sys.html"
   ]
  },
  {
   "cell_type": "markdown",
   "metadata": {},
   "source": [
    "# GLOB Module"
   ]
  },
  {
   "cell_type": "markdown",
   "metadata": {},
   "source": [
    "The glob module finds all the pathnames matching a specified pattern according to the rules used by the Unix shell, although results are returned in arbitrary order. No tilde expansion is done, but *, ?, and character ranges expressed with [] will be correctly matched. This is done by using the os.scandir() and fnmatch.fnmatch() functions in concert, and not by actually invoking a subshell. Note that unlike fnmatch.fnmatch(), glob treats filenames beginning with a dot (.) as special cases."
   ]
  },
  {
   "cell_type": "code",
   "execution_count": 9,
   "metadata": {},
   "outputs": [],
   "source": [
    "import glob"
   ]
  },
  {
   "cell_type": "markdown",
   "metadata": {},
   "source": [
    "**glob.glob(pathname, *, recursive=False)**<br>\n",
    "Return a possibly-empty list of path names that match pathname, which must be a string containing a path specification. pathname can be either absolute (like /usr/src/Python-1.5/Makefile) or relative (like ../../Tools/*/*.gif), and can contain shell-style wildcards. Broken symlinks are included in the results (as in the shell). Whether or not the results are sorted depends on the file system. If a file that satisfies conditions is removed or added during the call of this function, whether a path name for that file be included is unspecified.\n",
    "\n",
    "If recursive is true, the pattern “**” will match any files and zero or more directories, subdirectories and symbolic links to directories."
   ]
  },
  {
   "cell_type": "code",
   "execution_count": 14,
   "metadata": {},
   "outputs": [
    {
     "data": {
      "text/plain": [
       "['C:\\\\Users\\\\Developer\\\\Downloads\\\\Python\\\\course-handbook\\\\Python\\\\Notebooks\\\\Containers.ipynb',\n",
       " 'C:\\\\Users\\\\Developer\\\\Downloads\\\\Python\\\\course-handbook\\\\Python\\\\Notebooks\\\\Extensions.ipynb',\n",
       " 'C:\\\\Users\\\\Developer\\\\Downloads\\\\Python\\\\course-handbook\\\\Python\\\\Notebooks\\\\Extensions2_TP.ipynb',\n",
       " 'C:\\\\Users\\\\Developer\\\\Downloads\\\\Python\\\\course-handbook\\\\Python\\\\Notebooks\\\\Extensions2_TS.ipynb',\n",
       " 'C:\\\\Users\\\\Developer\\\\Downloads\\\\Python\\\\course-handbook\\\\Python\\\\Notebooks\\\\learning-python3.ipynb']"
      ]
     },
     "execution_count": 14,
     "metadata": {},
     "output_type": "execute_result"
    }
   ],
   "source": [
    "glob.glob('C:\\\\Users\\\\Developer\\\\Downloads\\\\Python\\\\course-handbook\\\\Python\\\\Notebooks\\\\*.ipynb', recursive=False)"
   ]
  },
  {
   "cell_type": "markdown",
   "metadata": {},
   "source": [
    "Lets create few sample files to work on Glob modules."
   ]
  },
  {
   "cell_type": "code",
   "execution_count": 20,
   "metadata": {},
   "outputs": [
    {
     "name": "stdout",
     "output_type": "stream",
     "text": [
      "C:/Users/Developer/Downloads/Sample/python-test-0.py\n",
      "C:/Users/Developer/Downloads/Sample/python-test-1.py\n",
      "C:/Users/Developer/Downloads/Sample/python-test-2.py\n",
      "C:/Users/Developer/Downloads/Sample/python-test-3.py\n",
      "C:/Users/Developer/Downloads/Sample/python-test-4.py\n"
     ]
    }
   ],
   "source": [
    "path = \"C:/Users/Developer/Downloads/Sample/\"\n",
    "for i in range(5):\n",
    "    fileName = path + \"python-test-\" + str(i) + \".py\"\n",
    "    print(fileName)\n",
    "    fd = os.open(fileName,os.O_CREAT)\n",
    "    os.close(fd)"
   ]
  },
  {
   "cell_type": "code",
   "execution_count": 21,
   "metadata": {},
   "outputs": [
    {
     "name": "stdout",
     "output_type": "stream",
     "text": [
      "C:/Users/Developer/Downloads/Sample\\python-test-0.py\n",
      "C:/Users/Developer/Downloads/Sample\\python-test-1.py\n",
      "C:/Users/Developer/Downloads/Sample\\python-test-2.py\n",
      "C:/Users/Developer/Downloads/Sample\\python-test-3.py\n",
      "C:/Users/Developer/Downloads/Sample\\python-test-4.py\n",
      "C:/Users/Developer/Downloads/Sample\\test_sys.py\n"
     ]
    }
   ],
   "source": [
    "for py in glob.glob(\"C:/Users/Developer/Downloads/Sample/*.py\"):\n",
    "    print(py)"
   ]
  },
  {
   "cell_type": "code",
   "execution_count": 22,
   "metadata": {},
   "outputs": [
    {
     "name": "stdout",
     "output_type": "stream",
     "text": [
      "C:/Users/Developer/Downloads/Sample\\python-test-0.py\n",
      "C:/Users/Developer/Downloads/Sample\\python-test-1.py\n",
      "C:/Users/Developer/Downloads/Sample\\python-test-2.py\n",
      "C:/Users/Developer/Downloads/Sample\\python-test-3.py\n",
      "C:/Users/Developer/Downloads/Sample\\python-test-4.py\n"
     ]
    }
   ],
   "source": [
    "for py in glob.glob(\"C:/Users/Developer/Downloads/Sample/*[0-9].py\"):\n",
    "    print(py)"
   ]
  },
  {
   "cell_type": "code",
   "execution_count": 24,
   "metadata": {},
   "outputs": [
    {
     "name": "stdout",
     "output_type": "stream",
     "text": [
      "C:/Users/Developer/Downloads/Sample\\test_sys.py\n"
     ]
    }
   ],
   "source": [
    "for py in glob.glob(\"C:/Users/Developer/Downloads/Sample/test_???.py\"):\n",
    "    print(py)"
   ]
  },
  {
   "cell_type": "markdown",
   "metadata": {},
   "source": [
    "**iglob() method**\n",
    "This method creates a Python generator object which can be used to list files under a given directory"
   ]
  },
  {
   "cell_type": "code",
   "execution_count": 26,
   "metadata": {},
   "outputs": [
    {
     "data": {
      "text/plain": [
       "generator"
      ]
     },
     "execution_count": 26,
     "metadata": {},
     "output_type": "execute_result"
    }
   ],
   "source": [
    "gen = glob.iglob(\"C:/Users/Developer/Downloads/Sample/*.py\")\n",
    "type(gen)"
   ]
  },
  {
   "cell_type": "code",
   "execution_count": 27,
   "metadata": {},
   "outputs": [
    {
     "name": "stdout",
     "output_type": "stream",
     "text": [
      "C:/Users/Developer/Downloads/Sample\\python-test-0.py\n",
      "C:/Users/Developer/Downloads/Sample\\python-test-1.py\n",
      "C:/Users/Developer/Downloads/Sample\\python-test-2.py\n",
      "C:/Users/Developer/Downloads/Sample\\python-test-3.py\n",
      "C:/Users/Developer/Downloads/Sample\\python-test-4.py\n",
      "C:/Users/Developer/Downloads/Sample\\test_sys.py\n"
     ]
    }
   ],
   "source": [
    "for py in gen:\n",
    "    print(py)"
   ]
  },
  {
   "cell_type": "markdown",
   "metadata": {},
   "source": [
    "**escape() method**\n",
    "It allows for escaping the given character sequence. You can find it handy for locating files with certain characters in their file names."
   ]
  },
  {
   "cell_type": "code",
   "execution_count": 28,
   "metadata": {},
   "outputs": [
    {
     "name": "stdout",
     "output_type": "stream",
     "text": [
      "C:/Users/Developer/Downloads/Sample\\python-test-0.py\n",
      "C:/Users/Developer/Downloads/Sample\\python-test-1.py\n",
      "C:/Users/Developer/Downloads/Sample\\python-test-2.py\n",
      "C:/Users/Developer/Downloads/Sample\\python-test-3.py\n",
      "C:/Users/Developer/Downloads/Sample\\python-test-4.py\n",
      "C:/Users/Developer/Downloads/Sample\\test_sys.py\n"
     ]
    }
   ],
   "source": [
    "char_seq = \"-_#\"\n",
    "for spcl_char in char_seq:\n",
    "    esc_set = \"C:/Users/Developer/Downloads/Sample/*\" + glob.escape(spcl_char) + \"*\" + \".py\"\n",
    "    for py in (glob.glob(esc_set)):\n",
    "        print(py)"
   ]
  }
 ],
 "metadata": {
  "colab": {
   "collapsed_sections": [],
   "name": "Extensions-2.ipynb",
   "provenance": [],
   "toc_visible": true
  },
  "kernelspec": {
   "display_name": "Python 3",
   "language": "python",
   "name": "python3"
  },
  "language_info": {
   "codemirror_mode": {
    "name": "ipython",
    "version": 3
   },
   "file_extension": ".py",
   "mimetype": "text/x-python",
   "name": "python",
   "nbconvert_exporter": "python",
   "pygments_lexer": "ipython3",
   "version": "3.7.6"
  }
 },
 "nbformat": 4,
 "nbformat_minor": 1
}
