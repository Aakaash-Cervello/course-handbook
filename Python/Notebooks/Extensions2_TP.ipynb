{
 "cells": [
  {
   "cell_type": "markdown",
   "metadata": {
    "id": "47aCyzhjfZ2r"
   },
   "source": [
    "# Dates and Times"
   ]
  },
  {
   "cell_type": "markdown",
   "metadata": {
    "id": "p7y7w2tPfPCB"
   },
   "source": [
    "Working with dates and times in programming can be complicated. Fortunately, you rarely need to implement complicated features from scratch these days since many open-source libraries are available to help out. This is definitely the case in Python, which includes three separate modules in the standard library to work with dates and times:\n",
    "1. **calendar** outputs calendars and provides functions using an idealized **Gregorian calendar**.\n",
    "2. **datetime** supplies classes for manipulating dates and times.\n",
    "3. **time** provides time-related functions where dates are not needed.\n",
    "\n",
    "Let's discuss each of these in detail."
   ]
  },
  {
   "cell_type": "markdown",
   "metadata": {
    "id": "z6EA_HsBkoAh"
   },
   "source": [
    "## Calendar"
   ]
  },
  {
   "cell_type": "markdown",
   "metadata": {
    "id": "x5UwyheqlXtv"
   },
   "source": [
    "Python defines an inbuilt module calendar which handles operations related to calendar. Calendar module allows output calendars like the program and provides additional useful functions related to the calendar. Functions and classes defined in Calendar module use an idealized calendar, the current Gregorian calendar extended indefinitely in both directions. By default, these calendars have Monday as the first day of the week, and Sunday as the last (the European convention).\n",
    "\n",
    "\n",
    "\n",
    "\n"
   ]
  },
  {
   "cell_type": "code",
   "execution_count": null,
   "metadata": {
    "id": "dwAvzola_E6U"
   },
   "outputs": [],
   "source": [
    "# import module  \n",
    "import calendar as cal"
   ]
  },
  {
   "cell_type": "code",
   "execution_count": null,
   "metadata": {
    "colab": {
     "base_uri": "https://localhost:8080/"
    },
    "id": "5haENMfnkz1I",
    "outputId": "71354537-f00f-4b35-a0bd-1c9466929783"
   },
   "outputs": [
    {
     "name": "stdout",
     "output_type": "stream",
     "text": [
      "      May 2015\n",
      "Mo Tu We Th Fr Sa Su\n",
      "             1  2  3\n",
      " 4  5  6  7  8  9 10\n",
      "11 12 13 14 15 16 17\n",
      "18 19 20 21 22 23 24\n",
      "25 26 27 28 29 30 31\n",
      "\n"
     ]
    }
   ],
   "source": [
    "# Lets print a calendar of given month and year\n",
    "print(cal.month(2015, 5))"
   ]
  },
  {
   "cell_type": "code",
   "execution_count": null,
   "metadata": {
    "colab": {
     "base_uri": "https://localhost:8080/"
    },
    "id": "W5xf05afnDoi",
    "outputId": "56b87907-ecef-468d-ece2-63cae9a8d8a8"
   },
   "outputs": [
    {
     "name": "stdout",
     "output_type": "stream",
     "text": [
      "The calender of year 2020 is : \n",
      "                                  2020\n",
      "\n",
      "      January                   February                   March\n",
      "Mo Tu We Th Fr Sa Su      Mo Tu We Th Fr Sa Su      Mo Tu We Th Fr Sa Su\n",
      "       1  2  3  4  5                      1  2                         1\n",
      " 6  7  8  9 10 11 12       3  4  5  6  7  8  9       2  3  4  5  6  7  8\n",
      "13 14 15 16 17 18 19      10 11 12 13 14 15 16       9 10 11 12 13 14 15\n",
      "20 21 22 23 24 25 26      17 18 19 20 21 22 23      16 17 18 19 20 21 22\n",
      "27 28 29 30 31            24 25 26 27 28 29         23 24 25 26 27 28 29\n",
      "                                                    30 31\n",
      "\n",
      "       April                      May                       June\n",
      "Mo Tu We Th Fr Sa Su      Mo Tu We Th Fr Sa Su      Mo Tu We Th Fr Sa Su\n",
      "       1  2  3  4  5                   1  2  3       1  2  3  4  5  6  7\n",
      " 6  7  8  9 10 11 12       4  5  6  7  8  9 10       8  9 10 11 12 13 14\n",
      "13 14 15 16 17 18 19      11 12 13 14 15 16 17      15 16 17 18 19 20 21\n",
      "20 21 22 23 24 25 26      18 19 20 21 22 23 24      22 23 24 25 26 27 28\n",
      "27 28 29 30               25 26 27 28 29 30 31      29 30\n",
      "\n",
      "        July                     August                  September\n",
      "Mo Tu We Th Fr Sa Su      Mo Tu We Th Fr Sa Su      Mo Tu We Th Fr Sa Su\n",
      "       1  2  3  4  5                      1  2          1  2  3  4  5  6\n",
      " 6  7  8  9 10 11 12       3  4  5  6  7  8  9       7  8  9 10 11 12 13\n",
      "13 14 15 16 17 18 19      10 11 12 13 14 15 16      14 15 16 17 18 19 20\n",
      "20 21 22 23 24 25 26      17 18 19 20 21 22 23      21 22 23 24 25 26 27\n",
      "27 28 29 30 31            24 25 26 27 28 29 30      28 29 30\n",
      "                          31\n",
      "\n",
      "      October                   November                  December\n",
      "Mo Tu We Th Fr Sa Su      Mo Tu We Th Fr Sa Su      Mo Tu We Th Fr Sa Su\n",
      "          1  2  3  4                         1          1  2  3  4  5  6\n",
      " 5  6  7  8  9 10 11       2  3  4  5  6  7  8       7  8  9 10 11 12 13\n",
      "12 13 14 15 16 17 18       9 10 11 12 13 14 15      14 15 16 17 18 19 20\n",
      "19 20 21 22 23 24 25      16 17 18 19 20 21 22      21 22 23 24 25 26 27\n",
      "26 27 28 29 30 31         23 24 25 26 27 28 29      28 29 30 31\n",
      "                          30\n",
      "\n"
     ]
    }
   ],
   "source": [
    "# Now, lets print calendar of an entire year \n",
    "print (\"The calender of year 2020 is : \")  \n",
    "print (cal.calendar(2020)) "
   ]
  },
  {
   "cell_type": "code",
   "execution_count": null,
   "metadata": {
    "colab": {
     "base_uri": "https://localhost:8080/"
    },
    "id": "wFM7MY2Ypt9N",
    "outputId": "2f729bd7-0250-4a9b-9433-67493e6aa543"
   },
   "outputs": [
    {
     "name": "stdout",
     "output_type": "stream",
     "text": [
      "0\n",
      "1\n",
      "2\n",
      "3\n",
      "4\n",
      "5\n",
      "6\n"
     ]
    }
   ],
   "source": [
    "#set firstweekday, Monday(0) and Sunday(6)\n",
    "obj = cal.Calendar(firstweekday = 0)\n",
    "\n",
    "\n",
    "for day in obj.iterweekdays():\n",
    "  print(day)"
   ]
  },
  {
   "cell_type": "code",
   "execution_count": null,
   "metadata": {
    "colab": {
     "base_uri": "https://localhost:8080/"
    },
    "id": "kChkBusDrzSg",
    "outputId": "366e9058-3c84-4cd2-8a04-7e23830ba69b"
   },
   "outputs": [
    {
     "name": "stdout",
     "output_type": "stream",
     "text": [
      "2018-08-27\n",
      "2018-08-28\n",
      "2018-08-29\n",
      "2018-08-30\n",
      "2018-08-31\n",
      "2018-09-01\n",
      "2018-09-02\n",
      "2018-09-03\n",
      "2018-09-04\n",
      "2018-09-05\n",
      "2018-09-06\n",
      "2018-09-07\n",
      "2018-09-08\n",
      "2018-09-09\n",
      "2018-09-10\n",
      "2018-09-11\n",
      "2018-09-12\n",
      "2018-09-13\n",
      "2018-09-14\n",
      "2018-09-15\n",
      "2018-09-16\n",
      "2018-09-17\n",
      "2018-09-18\n",
      "2018-09-19\n",
      "2018-09-20\n",
      "2018-09-21\n",
      "2018-09-22\n",
      "2018-09-23\n",
      "2018-09-24\n",
      "2018-09-25\n",
      "2018-09-26\n",
      "2018-09-27\n",
      "2018-09-28\n",
      "2018-09-29\n",
      "2018-09-30\n"
     ]
    }
   ],
   "source": [
    "for day in obj.itermonthdates(2018, 9): \n",
    "    print(day)"
   ]
  },
  {
   "cell_type": "code",
   "execution_count": null,
   "metadata": {
    "colab": {
     "base_uri": "https://localhost:8080/"
    },
    "id": "gGlTyO4MtCWi",
    "outputId": "3c82f08e-d2c3-4f80-96b4-32548772b2a1"
   },
   "outputs": [
    {
     "name": "stdout",
     "output_type": "stream",
     "text": [
      "              September 2018\n",
      " Mon   Tue   Wed   Thu   Fri   Sat   Sun\n",
      "                                 1     2\n",
      "   3     4     5     6     7     8     9\n",
      "  10    11    12    13    14    15    16\n",
      "  17    18    19    20    21    22    23\n",
      "  24    25    26    27    28    29    30\n",
      "\n"
     ]
    }
   ],
   "source": [
    "#create object for textcalendar to format\n",
    "text_cal = calendar.TextCalendar(firstweekday = 0) \n",
    "  \n",
    "# default value of width is 0 \n",
    "  \n",
    "# printing formatmonth \n",
    "print(text_cal.formatmonth(2018, 9, w = 5))"
   ]
  },
  {
   "cell_type": "code",
   "execution_count": null,
   "metadata": {
    "colab": {
     "base_uri": "https://localhost:8080/"
    },
    "id": "hyhxL1ysv4Sk",
    "outputId": "7f7cc8ac-108f-46fd-ec66-3f8a9eac801b"
   },
   "outputs": [
    {
     "name": "stdout",
     "output_type": "stream",
     "text": [
      "                  October 2018\n",
      "\n",
      " Mon    Tue    Wed    Thu    Fri    Sat    Sun\n",
      "\n",
      "   1      2      3      4      5      6      7\n",
      "\n",
      "   8      9     10     11     12     13     14\n",
      "\n",
      "  15     16     17     18     19     20     21\n",
      "\n",
      "  22     23     24     25     26     27     28\n",
      "\n",
      "  29     30     31\n",
      "\n",
      "\n"
     ]
    }
   ],
   "source": [
    "# giving value of width = 6, line = 2 \n",
    "  \n",
    "# printing formatmonth \n",
    "print(text_cal.formatmonth(2018, 10, 6, 2)) "
   ]
  },
  {
   "cell_type": "code",
   "execution_count": null,
   "metadata": {
    "colab": {
     "base_uri": "https://localhost:8080/"
    },
    "id": "dP3Dl0GQxdmp",
    "outputId": "76f91ecf-e425-4619-f1d6-f96c76850837"
   },
   "outputs": [
    {
     "name": "stdout",
     "output_type": "stream",
     "text": [
      "                                  2019\n",
      "\n",
      "      January                   February                   March\n",
      "Mo Tu We Th Fr Sa Su      Mo Tu We Th Fr Sa Su      Mo Tu We Th Fr Sa Su\n",
      "    1  2  3  4  5  6                   1  2  3                   1  2  3\n",
      " 7  8  9 10 11 12 13       4  5  6  7  8  9 10       4  5  6  7  8  9 10\n",
      "14 15 16 17 18 19 20      11 12 13 14 15 16 17      11 12 13 14 15 16 17\n",
      "21 22 23 24 25 26 27      18 19 20 21 22 23 24      18 19 20 21 22 23 24\n",
      "28 29 30 31               25 26 27 28               25 26 27 28 29 30 31\n",
      "\n",
      "       April                      May                       June\n",
      "Mo Tu We Th Fr Sa Su      Mo Tu We Th Fr Sa Su      Mo Tu We Th Fr Sa Su\n",
      " 1  2  3  4  5  6  7             1  2  3  4  5                      1  2\n",
      " 8  9 10 11 12 13 14       6  7  8  9 10 11 12       3  4  5  6  7  8  9\n",
      "15 16 17 18 19 20 21      13 14 15 16 17 18 19      10 11 12 13 14 15 16\n",
      "22 23 24 25 26 27 28      20 21 22 23 24 25 26      17 18 19 20 21 22 23\n",
      "29 30                     27 28 29 30 31            24 25 26 27 28 29 30\n",
      "\n",
      "        July                     August                  September\n",
      "Mo Tu We Th Fr Sa Su      Mo Tu We Th Fr Sa Su      Mo Tu We Th Fr Sa Su\n",
      " 1  2  3  4  5  6  7                1  2  3  4                         1\n",
      " 8  9 10 11 12 13 14       5  6  7  8  9 10 11       2  3  4  5  6  7  8\n",
      "15 16 17 18 19 20 21      12 13 14 15 16 17 18       9 10 11 12 13 14 15\n",
      "22 23 24 25 26 27 28      19 20 21 22 23 24 25      16 17 18 19 20 21 22\n",
      "29 30 31                  26 27 28 29 30 31         23 24 25 26 27 28 29\n",
      "                                                    30\n",
      "\n",
      "      October                   November                  December\n",
      "Mo Tu We Th Fr Sa Su      Mo Tu We Th Fr Sa Su      Mo Tu We Th Fr Sa Su\n",
      "    1  2  3  4  5  6                   1  2  3                         1\n",
      " 7  8  9 10 11 12 13       4  5  6  7  8  9 10       2  3  4  5  6  7  8\n",
      "14 15 16 17 18 19 20      11 12 13 14 15 16 17       9 10 11 12 13 14 15\n",
      "21 22 23 24 25 26 27      18 19 20 21 22 23 24      16 17 18 19 20 21 22\n",
      "28 29 30 31               25 26 27 28 29 30         23 24 25 26 27 28 29\n",
      "                                                    30 31\n",
      "\n"
     ]
    }
   ],
   "source": [
    "#print calendar without using print command\n",
    "cal.prcal(2019)"
   ]
  },
  {
   "cell_type": "code",
   "execution_count": null,
   "metadata": {
    "colab": {
     "base_uri": "https://localhost:8080/"
    },
    "id": "_rGj9kUmyJ_m",
    "outputId": "3136e275-0c05-46bd-f65b-b3a902b405c0"
   },
   "outputs": [
    {
     "data": {
      "text/plain": [
       "True"
      ]
     },
     "execution_count": 23,
     "metadata": {
      "tags": []
     },
     "output_type": "execute_result"
    }
   ],
   "source": [
    "#check if the given year is a leap year\n",
    "cal.isleap(2020)"
   ]
  },
  {
   "cell_type": "markdown",
   "metadata": {
    "id": "mNcaxiaFBq75"
   },
   "source": [
    "There are many more functions or methods which can be referenced from below links.\n",
    "\n",
    "https://www.geeksforgeeks.org/python-calendar-module/\n",
    "\n",
    "https://docs.python.org/3/library/calendar.html#module-calendar"
   ]
  },
  {
   "cell_type": "markdown",
   "metadata": {
    "id": "Wb_yxE5_ZeKs"
   },
   "source": [
    "## Dates and Time"
   ]
  },
  {
   "cell_type": "markdown",
   "metadata": {
    "id": "D6qwZYuterJ_"
   },
   "source": [
    "In Python, date and time are not a data type of its own, but a module named datetime can be imported to work with the date as well as time. Datetime module comes built into Python, so there is no need to install it externally.\n",
    "\n",
    "Datetime module supplies classes to work with date and time. These classes provide a number of functions to deal with dates, times and time intervals. Date and datetime are an object in Python, so when you manipulate them, you are actually manipulating objects and not string or timestamps.\n",
    "\n",
    "The datetime classes are categorize into 6 main classes –\n",
    "\n",
    "1. [date](https://www.geeksforgeeks.org/python-datetime-module-with-examples/#date) – An idealized naive date, assuming the current Gregorian calendar always was, and always will be, in effect. Its attributes are year, month and day.\n",
    "2. [time](https://www.geeksforgeeks.org/python-datetime-module-with-examples/#time) – An idealized time, independent of any particular day, assuming that every day has exactly 24*60*60 seconds. Its attributes are hour, minute, second, microsecond, and tzinfo.\n",
    "3. [datetime](https://www.geeksforgeeks.org/python-datetime-module-with-examples/#datetime) – Its a combination of date and time along with the attributes year, month, day, hour, minute, second, microsecond, and tzinfo.\n",
    "4. [timedelta](https://www.geeksforgeeks.org/python-datetime-module-with-examples/#timedelta) – A duration expressing the difference between two date, time, or datetime instances to microsecond resolution.\n",
    "5. [tzinfo](https://www.geeksforgeeks.org/python-datetime-module-with-examples/#tzinfo) – It provides time zone information objects.\n",
    "6. [timezone](https://www.geeksforgeeks.org/python-datetime-module-with-examples/#timezone) – A class that implements the tzinfo abstract base class as a fixed offset from the UTC (New in version 3.2)."
   ]
  },
  {
   "cell_type": "code",
   "execution_count": null,
   "metadata": {
    "id": "xQ6aMo8_CbCP"
   },
   "outputs": [],
   "source": [
    "#importing the modules\n",
    "from datetime import date, time, datetime"
   ]
  },
  {
   "cell_type": "code",
   "execution_count": null,
   "metadata": {
    "colab": {
     "base_uri": "https://localhost:8080/"
    },
    "id": "hQP8YhWGjcqw",
    "outputId": "27168bc6-d734-47d8-99a6-d7ef496866a1"
   },
   "outputs": [
    {
     "name": "stdout",
     "output_type": "stream",
     "text": [
      "Current Full Date: 2021-01-11\n",
      "Current year: 2021\n",
      "Current month: 1\n",
      "Current day: 11\n"
     ]
    }
   ],
   "source": [
    "#Print current date\n",
    "print(\"Current Full Date:\",date.today())\n",
    "\n",
    "#Printing current year\n",
    "print(\"Current year:\",date.today().year)\n",
    "\n",
    "#Printing current month\n",
    "print(\"Current month:\",date.today().month)\n",
    "\n",
    "#Printing current day\n",
    "print(\"Current day:\",date.today().day)"
   ]
  },
  {
   "cell_type": "code",
   "execution_count": null,
   "metadata": {
    "colab": {
     "base_uri": "https://localhost:8080/"
    },
    "id": "CiQDfO_sn62L",
    "outputId": "1a116581-a8dd-4ec4-f3a2-263cb3783cc3"
   },
   "outputs": [
    {
     "name": "stdout",
     "output_type": "stream",
     "text": [
      "hour = 19\n",
      "minute = 8\n",
      "second = 56\n",
      "microsecond = 0\n"
     ]
    }
   ],
   "source": [
    "Time = time(19, 8, 56) \n",
    "  \n",
    "print(\"hour =\", Time.hour) \n",
    "print(\"minute =\", Time.minute) \n",
    "print(\"second =\", Time.second) \n",
    "print(\"microsecond =\", Time.microsecond) "
   ]
  },
  {
   "cell_type": "code",
   "execution_count": null,
   "metadata": {
    "colab": {
     "base_uri": "https://localhost:8080/"
    },
    "id": "zs3G4KV2sdgV",
    "outputId": "97570e3e-16a0-4cc5-a7ee-5adfe9dfc826"
   },
   "outputs": [
    {
     "name": "stdout",
     "output_type": "stream",
     "text": [
      "Current date and time is 2021-01-11 13:45:36.507544\n"
     ]
    }
   ],
   "source": [
    "# Calling now() function \n",
    "today = datetime.now() \n",
    "  \n",
    "print(\"Current date and time is\", today) "
   ]
  },
  {
   "cell_type": "code",
   "execution_count": null,
   "metadata": {
    "colab": {
     "base_uri": "https://localhost:8080/"
    },
    "id": "1xfApCIassAR",
    "outputId": "af30a37d-6f36-412e-b748-7004866df9c6"
   },
   "outputs": [
    {
     "name": "stdout",
     "output_type": "stream",
     "text": [
      "year = 2021\n",
      "month = 1\n",
      "day = 11\n",
      "hour = 13\n",
      "minute = 45\n",
      "second = 36\n",
      "microsecond = 507544\n"
     ]
    }
   ],
   "source": [
    "print(\"year =\", today.year)\n",
    "print(\"month =\", today.month) \n",
    "print(\"day =\", today.day) \n",
    "print(\"hour =\", today.hour)  \n",
    "print(\"minute =\", today.minute) \n",
    "print(\"second =\", today.second) \n",
    "print(\"microsecond =\", today.microsecond) "
   ]
  },
  {
   "cell_type": "code",
   "execution_count": null,
   "metadata": {
    "colab": {
     "base_uri": "https://localhost:8080/"
    },
    "id": "DGy53v4WxFyf",
    "outputId": "eedde047-5274-49d6-e99b-bbdfb1847a72"
   },
   "outputs": [
    {
     "name": "stdout",
     "output_type": "stream",
     "text": [
      "Current Date: 2021-01-11\n",
      "Current Time: 14:09:02\n",
      "Combined date and time: 2021-01-11 14:09:02\n"
     ]
    }
   ],
   "source": [
    "#Use of combine function\n",
    "today = date.today() #todays date\n",
    "now = datetime.now() #current date and time\n",
    "current_time = time(now.hour, now.minute, now.second) #extracting current time \n",
    "\n",
    "print(\"Current Date:\",today)\n",
    "print(\"Current Time:\",current_time)\n",
    "print(\"Combined date and time:\",datetime.combine(today, current_time))"
   ]
  },
  {
   "cell_type": "code",
   "execution_count": null,
   "metadata": {
    "id": "Kxnc19u0kOdA"
   },
   "outputs": [],
   "source": [
    "#Import timedelta module\n",
    "from datetime import timedelta"
   ]
  },
  {
   "cell_type": "code",
   "execution_count": null,
   "metadata": {
    "colab": {
     "base_uri": "https://localhost:8080/"
    },
    "id": "tFHthOHukeEV",
    "outputId": "072952b8-f0ff-4157-e37d-66f9052230b5"
   },
   "outputs": [
    {
     "name": "stdout",
     "output_type": "stream",
     "text": [
      "2021-01-12 07:49:46.610398\n"
     ]
    }
   ],
   "source": [
    "now = datetime.now()\n",
    "print(now)"
   ]
  },
  {
   "cell_type": "code",
   "execution_count": null,
   "metadata": {
    "colab": {
     "base_uri": "https://localhost:8080/"
    },
    "id": "7X4YiYq9kwCb",
    "outputId": "aeaaba69-5ffd-4783-eef1-b24160adca7c"
   },
   "outputs": [
    {
     "name": "stdout",
     "output_type": "stream",
     "text": [
      "2021-01-13 07:49:46.610398\n"
     ]
    }
   ],
   "source": [
    "tomorrow = timedelta(days=+1)\n",
    "print(now + tomorrow)"
   ]
  },
  {
   "cell_type": "code",
   "execution_count": null,
   "metadata": {
    "colab": {
     "base_uri": "https://localhost:8080/"
    },
    "id": "Y9pN3syyk7Ig",
    "outputId": "7dadb352-5ace-4c99-e9bb-3893f046f72b"
   },
   "outputs": [
    {
     "name": "stdout",
     "output_type": "stream",
     "text": [
      "2021-01-11 07:49:46.610398\n"
     ]
    }
   ],
   "source": [
    "yesterday = timedelta(days=-1)\n",
    "print(now + yesterday)"
   ]
  },
  {
   "cell_type": "code",
   "execution_count": null,
   "metadata": {
    "colab": {
     "base_uri": "https://localhost:8080/"
    },
    "id": "gTpYZfStlKAy",
    "outputId": "7d3679e4-95a2-4a62-98e8-b55c260889b1"
   },
   "outputs": [
    {
     "name": "stdout",
     "output_type": "stream",
     "text": [
      "2021-01-15 03:49:46.610398\n"
     ]
    }
   ],
   "source": [
    "delta = timedelta(days=+3, hours=-4)\n",
    "print(now + delta)"
   ]
  },
  {
   "cell_type": "code",
   "execution_count": 4,
   "metadata": {
    "colab": {
     "base_uri": "https://localhost:8080/"
    },
    "id": "hm5L93z39try",
    "outputId": "97ad1ae9-eba3-402b-da9c-1408c9ac4a95"
   },
   "outputs": [
    {
     "name": "stdout",
     "output_type": "stream",
     "text": [
      "2021-01-17 15:30:23.657247+00:00\n",
      "UTC\n"
     ]
    }
   ],
   "source": [
    "from dateutil import tz\n",
    "from datetime import datetime\n",
    "now = datetime.now(tz=tz.tzlocal())\n",
    "print(now)\n",
    "\n",
    "print(now.tzname())"
   ]
  },
  {
   "cell_type": "code",
   "execution_count": 5,
   "metadata": {
    "colab": {
     "base_uri": "https://localhost:8080/"
    },
    "id": "O4EwOMtS-RYc",
    "outputId": "4c8093cc-2131-4af8-fcc3-10c19ddf305e"
   },
   "outputs": [
    {
     "name": "stdout",
     "output_type": "stream",
     "text": [
      "2021-01-17 21:02:23.077196+05:30\n",
      "IST\n"
     ]
    }
   ],
   "source": [
    "Indian_tz = tz.gettz(\"Asia/Calcutta\")\n",
    "now = datetime.now(tz=Indian_tz)\n",
    "print(now)\n",
    "\n",
    "print(now.tzname())"
   ]
  },
  {
   "cell_type": "markdown",
   "metadata": {
    "id": "8jwFGkd2RTx-"
   },
   "source": [
    "# OS and SYS"
   ]
  },
  {
   "cell_type": "markdown",
   "metadata": {},
   "source": [
    "## OS Module"
   ]
  },
  {
   "cell_type": "markdown",
   "metadata": {},
   "source": [
    "The OS module in python provides functions for interacting with the operating system. OS, comes under Python’s standard utility modules. This module provides a portable way of using operating system dependent functionality. The *os* and *os.path* modules include many functions to interact with the file system."
   ]
  },
  {
   "cell_type": "markdown",
   "metadata": {},
   "source": [
    "<b>os.name</b>: This function gives the name of the operating system dependent module imported. The following names have currently been registered: ‘posix’, ‘nt’, ‘os2’, ‘ce’, ‘java’ and ‘riscos’"
   ]
  },
  {
   "cell_type": "code",
   "execution_count": 1,
   "metadata": {},
   "outputs": [
    {
     "name": "stdout",
     "output_type": "stream",
     "text": [
      "nt\n"
     ]
    }
   ],
   "source": [
    "import os \n",
    "print(os.name)"
   ]
  },
  {
   "cell_type": "markdown",
   "metadata": {},
   "source": [
    "<b>os.getcwd()</b>: Function os.getcwd(), returns the Current Working Directory(CWD) of the file used to execute the code, can vary from system to system."
   ]
  },
  {
   "cell_type": "code",
   "execution_count": 2,
   "metadata": {},
   "outputs": [
    {
     "data": {
      "text/plain": [
       "'C:\\\\Users\\\\Developer\\\\Downloads\\\\Python\\\\course-handbook\\\\Python\\\\Notebooks'"
      ]
     },
     "execution_count": 2,
     "metadata": {},
     "output_type": "execute_result"
    }
   ],
   "source": [
    "os.getcwd()"
   ]
  },
  {
   "cell_type": "code",
   "execution_count": 3,
   "metadata": {},
   "outputs": [
    {
     "data": {
      "text/plain": [
       "'C:\\\\Users\\\\Developer\\\\Downloads\\\\Python\\\\course-handbook\\\\Python\\\\Notebooks'"
      ]
     },
     "execution_count": 3,
     "metadata": {},
     "output_type": "execute_result"
    }
   ],
   "source": [
    "os.path.abspath('.')"
   ]
  },
  {
   "cell_type": "markdown",
   "metadata": {},
   "source": [
    "<b>os.chdir(path)</b>\n",
    "Change the current working directory to path.\n",
    "\n",
    "This function can support specifying a file descriptor. The descriptor must refer to an opened directory, not an open file.\n",
    "\n",
    "This function can raise OSError and subclasses such as FileNotFoundError, PermissionError, and NotADirectoryError."
   ]
  },
  {
   "cell_type": "code",
   "execution_count": 4,
   "metadata": {},
   "outputs": [],
   "source": [
    "os.chdir(\"C:/\")"
   ]
  },
  {
   "cell_type": "markdown",
   "metadata": {},
   "source": [
    "<b>os.getcwd()</b>\n",
    "Return a string representing the current working directory."
   ]
  },
  {
   "cell_type": "code",
   "execution_count": 5,
   "metadata": {},
   "outputs": [
    {
     "data": {
      "text/plain": [
       "'C:\\\\'"
      ]
     },
     "execution_count": 5,
     "metadata": {},
     "output_type": "execute_result"
    }
   ],
   "source": [
    "os.getcwd()"
   ]
  },
  {
   "cell_type": "markdown",
   "metadata": {},
   "source": [
    "<b>os.listdir(path='.')</b>\n",
    "Return a list containing the names of the entries in the directory given by path. The list is in arbitrary order, and does not include the special entries '.' and '..' even if they are present in the directory. If a file is removed from or added to the directory during the call of this function, whether a name for that file be included is unspecified."
   ]
  },
  {
   "cell_type": "code",
   "execution_count": 6,
   "metadata": {},
   "outputs": [
    {
     "data": {
      "text/plain": [
       "['$Recycle.Bin',\n",
       " 'Documents and Settings',\n",
       " 'hiberfil.sys',\n",
       " 'Install',\n",
       " 'Intel',\n",
       " 'LocalDocuments',\n",
       " 'OneDriveTemp',\n",
       " 'pagefile.sys',\n",
       " 'PerfLogs',\n",
       " 'Program Files',\n",
       " 'Program Files (x86)',\n",
       " 'ProgramData',\n",
       " 'Recovery',\n",
       " 'swapfile.sys',\n",
       " 'System Volume Information',\n",
       " 'TalendConfigs',\n",
       " 'TalendJars',\n",
       " 'trdock_debug.log',\n",
       " 'Users',\n",
       " 'Windows']"
      ]
     },
     "execution_count": 6,
     "metadata": {},
     "output_type": "execute_result"
    }
   ],
   "source": [
    "os.listdir('.')"
   ]
  },
  {
   "cell_type": "code",
   "execution_count": 7,
   "metadata": {},
   "outputs": [
    {
     "data": {
      "text/plain": [
       "'C:\\\\Users\\\\Developer\\\\Downloads'"
      ]
     },
     "execution_count": 7,
     "metadata": {},
     "output_type": "execute_result"
    }
   ],
   "source": [
    "os.fspath('C:\\\\Users\\\\Developer\\\\Downloads')"
   ]
  },
  {
   "cell_type": "markdown",
   "metadata": {},
   "source": [
    "<b>os.getlogin():</b> Return the name of the user logged in on the controlling terminal of the process."
   ]
  },
  {
   "cell_type": "code",
   "execution_count": 8,
   "metadata": {},
   "outputs": [
    {
     "data": {
      "text/plain": [
       "'Developer'"
      ]
     },
     "execution_count": 8,
     "metadata": {},
     "output_type": "execute_result"
    }
   ],
   "source": [
    "os.getlogin()"
   ]
  },
  {
   "cell_type": "markdown",
   "metadata": {},
   "source": [
    "<b>os.getppid():</b> Return the parent’s process id. When the parent process has exited, on Unix the id returned is the one of the init process (1), on Windows it is still the same id, which may be already reused by another process."
   ]
  },
  {
   "cell_type": "code",
   "execution_count": 9,
   "metadata": {},
   "outputs": [
    {
     "data": {
      "text/plain": [
       "17504"
      ]
     },
     "execution_count": 9,
     "metadata": {},
     "output_type": "execute_result"
    }
   ],
   "source": [
    "os.getppid()"
   ]
  },
  {
   "cell_type": "code",
   "execution_count": 10,
   "metadata": {},
   "outputs": [
    {
     "name": "stderr",
     "output_type": "stream",
     "text": [
      "C:\\Users\\Developer\\anaconda3\\lib\\site-packages\\ipykernel_launcher.py:1: DeprecationWarning: The Windows bytes API has been deprecated, use Unicode filenames instead\n",
      "  \"\"\"Entry point for launching an IPython kernel.\n"
     ]
    },
    {
     "data": {
      "text/plain": [
       "b'C:\\\\'"
      ]
     },
     "execution_count": 10,
     "metadata": {},
     "output_type": "execute_result"
    }
   ],
   "source": [
    "os.getcwdb()"
   ]
  },
  {
   "cell_type": "markdown",
   "metadata": {},
   "source": [
    "<b>os.times():</b> Returns the current global process times. The return value is an object with five attributes:\n",
    "<li>\n",
    "user - user time\n",
    "<li>\n",
    "system - system time\n",
    "<li>\n",
    "children_user - user time of all child processes\n",
    "<li>\n",
    "children_system - system time of all child processes\n",
    "<li>\n",
    "elapsed - elapsed real time since a fixed point in the past"
   ]
  },
  {
   "cell_type": "code",
   "execution_count": 11,
   "metadata": {},
   "outputs": [
    {
     "data": {
      "text/plain": [
       "nt.times_result(user=1.296875, system=1.015625, children_user=0.0, children_system=0.0, elapsed=0.0)"
      ]
     },
     "execution_count": 11,
     "metadata": {},
     "output_type": "execute_result"
    }
   ],
   "source": [
    "os.times()"
   ]
  },
  {
   "cell_type": "markdown",
   "metadata": {},
   "source": [
    "<b>os.walk()</b> defaults to traversing directories in a top-down manner<br>\n",
    "os.walk() returns three values on each iteration of the loop:\n",
    "\n",
    "1. The name of the current folder\n",
    "\n",
    "2. A list of folders in the current folder\n",
    "\n",
    "3. A list of files in the current folder\n",
    "\n",
    "On each iteration, it prints out the names of the subdirectories and files it finds:\n"
   ]
  },
  {
   "cell_type": "code",
   "execution_count": 18,
   "metadata": {},
   "outputs": [
    {
     "name": "stdout",
     "output_type": "stream",
     "text": [
      "Found directory: .\n",
      "Found directory: .\\course-handbook\n",
      "Found directory: .\\course-handbook\\.git\n",
      "config\n",
      "description\n",
      "FETCH_HEAD\n",
      "HEAD\n",
      "index\n",
      "packed-refs\n",
      "Found directory: .\\course-handbook\\.git\\hooks\n",
      "applypatch-msg.sample\n",
      "commit-msg.sample\n",
      "fsmonitor-watchman.sample\n",
      "post-update.sample\n",
      "pre-applypatch.sample\n",
      "pre-commit.sample\n",
      "pre-merge-commit.sample\n",
      "pre-push.sample\n",
      "pre-rebase.sample\n",
      "pre-receive.sample\n",
      "prepare-commit-msg.sample\n",
      "update.sample\n",
      "Found directory: .\\course-handbook\\.git\\info\n",
      "exclude\n",
      "Found directory: .\\course-handbook\\.git\\logs\n",
      "HEAD\n",
      "Found directory: .\\course-handbook\\.git\\logs\\refs\n",
      "Found directory: .\\course-handbook\\.git\\logs\\refs\\heads\n",
      "master\n",
      "tushar_dev\n",
      "Found directory: .\\course-handbook\\.git\\logs\\refs\\remotes\n",
      "Found directory: .\\course-handbook\\.git\\logs\\refs\\remotes\\origin\n",
      "HEAD\n",
      "Found directory: .\\course-handbook\\.git\\logs\\refs\\remotes\\upstream\n",
      "loki_dev\n",
      "master\n",
      "tushar_dev\n",
      "Found directory: .\\course-handbook\\.git\\objects\n",
      "Found directory: .\\course-handbook\\.git\\objects\\3f\n",
      "1e58ac225f364e2898dce20fa01ae75b47ad73\n",
      "Found directory: .\\course-handbook\\.git\\objects\\42\n",
      "1f9a043a4cecab2dcd607b1017d5be012dfa5d\n",
      "Found directory: .\\course-handbook\\.git\\objects\\info\n",
      "Found directory: .\\course-handbook\\.git\\objects\\pack\n",
      "pack-9a1902c66d9dcf8ad2c4a90453c30bf4b828c2b1.idx\n",
      "pack-9a1902c66d9dcf8ad2c4a90453c30bf4b828c2b1.pack\n",
      "Found directory: .\\course-handbook\\.git\\refs\n",
      "Found directory: .\\course-handbook\\.git\\refs\\heads\n",
      "master\n",
      "tushar_dev\n",
      "Found directory: .\\course-handbook\\.git\\refs\\remotes\n",
      "Found directory: .\\course-handbook\\.git\\refs\\remotes\\origin\n",
      "HEAD\n",
      "Found directory: .\\course-handbook\\.git\\refs\\remotes\\upstream\n",
      "loki_dev\n",
      "master\n",
      "tushar_dev\n",
      "Found directory: .\\course-handbook\\.git\\refs\\tags\n",
      "Found directory: .\\course-handbook\\Python\n",
      ".gitignore\n",
      "contents.md\n",
      "README.md\n",
      "Found directory: .\\course-handbook\\Python\\Materials & Documents\n",
      "Python_Exercise.pptx\n",
      "Python_Training_Material.pptx\n",
      "Found directory: .\\course-handbook\\Python\\Notebooks\n",
      "Containers.ipynb\n",
      "Extensions.ipynb\n",
      "Extensions_2.ipynb\n",
      "learning-python3.ipynb\n",
      "Untitled.ipynb\n",
      "Found directory: .\\course-handbook\\Python\\Notebooks\\.ipynb_checkpoints\n",
      "containers-101-2x-checkpoint.png\n",
      "Containers-checkpoint.ipynb\n",
      "contents-checkpoint.md\n",
      "Extensions-checkpoint.ipynb\n",
      "Extensions_2-checkpoint.ipynb\n",
      "learning-python3-checkpoint.ipynb\n",
      "README-checkpoint.md\n",
      "Untitled-checkpoint.ipynb\n"
     ]
    }
   ],
   "source": [
    "# Walking a directory tree and printing the names of the directories and files\n",
    "os.chdir(\"C:/Users/Developer/Downloads/Python/\")\n",
    "for dirpath, dirnames, files in os.walk('.'):\n",
    "    print(f'Found directory: {dirpath}')\n",
    "    for file_name in files:\n",
    "        print(file_name)"
   ]
  },
  {
   "cell_type": "markdown",
   "metadata": {},
   "source": [
    "Lets see few examples of creating a directory, file, writing content into it"
   ]
  },
  {
   "cell_type": "code",
   "execution_count": 22,
   "metadata": {},
   "outputs": [
    {
     "name": "stdout",
     "output_type": "stream",
     "text": [
      "Path is created\n"
     ]
    }
   ],
   "source": [
    "path = \"C:/Users/Developer/Downloads/Sample\"\n",
    "os.mkdir( path);\n",
    "\n",
    "print (\"Path is created\")"
   ]
  },
  {
   "cell_type": "code",
   "execution_count": 28,
   "metadata": {},
   "outputs": [
    {
     "name": "stdout",
     "output_type": "stream",
     "text": [
      "Sample\n"
     ]
    }
   ],
   "source": [
    "with os.scandir('C:/Users/Developer/Downloads/') as it:\n",
    "    for entry in it:\n",
    "        if entry.name.startswith('Sample') and entry.is_dir():\n",
    "            print(entry.name)"
   ]
  },
  {
   "cell_type": "code",
   "execution_count": 39,
   "metadata": {},
   "outputs": [
    {
     "name": "stdout",
     "output_type": "stream",
     "text": [
      "Closed the file successfully!!\n"
     ]
    }
   ],
   "source": [
    "# Open a file\n",
    "fd = os.open(\"C:/Users/Developer/Downloads/Sample/test_file.txt\", os.O_RDWR|os.O_CREAT)\n",
    "\n",
    "# Write one string\n",
    "str = b'This is test'\n",
    "os.write(fd, str)\n",
    "\n",
    "# Close opened file\n",
    "os.close( fd )\n",
    "\n",
    "print (\"Closed the file successfully!!\")"
   ]
  },
  {
   "cell_type": "code",
   "execution_count": 45,
   "metadata": {},
   "outputs": [
    {
     "name": "stdout",
     "output_type": "stream",
     "text": [
      "b'This is test'\n",
      "Closed the file successfully!!\n"
     ]
    }
   ],
   "source": [
    "# Open a file\n",
    "fd = os.open(\"C:/Users/Developer/Downloads/Sample/test_file.txt\", os.O_RDWR)\n",
    "\n",
    "# Reading text\n",
    "ret = os.read(fd,15)\n",
    "print (ret)\n",
    "\n",
    "# Close opened file\n",
    "os.close(fd)\n",
    "print (\"Closed the file successfully!!\")"
   ]
  },
  {
   "cell_type": "markdown",
   "metadata": {},
   "source": [
    "<b>os.error:</b> All functions in this module raise OSError in the case of invalid or inaccessible file names and paths, or other arguments that have the correct type, but are not accepted by the operating system. os.error is an alias for built-in OSError exception."
   ]
  },
  {
   "cell_type": "code",
   "execution_count": 15,
   "metadata": {},
   "outputs": [
    {
     "name": "stdout",
     "output_type": "stream",
     "text": [
      "<class 'OSError'>\n",
      "Problem reading: Sample.txt\n"
     ]
    }
   ],
   "source": [
    "try: \n",
    "    # If the file does not exist, \n",
    "    # then it would throw an IOError \n",
    "    filename = 'Sample.txt'\n",
    "    f = open(filename, 'r') \n",
    "    text = f.read() \n",
    "    f.close() \n",
    "  \n",
    "# Control jumps directly to here if  \n",
    "#any of the above lines throws IOError.     \n",
    "except IOError: \n",
    "  \n",
    "    print(os.error)\n",
    "    print('Problem reading: ' + filename) "
   ]
  },
  {
   "cell_type": "markdown",
   "metadata": {},
   "source": []
  }
 ],
 "metadata": {
  "colab": {
   "collapsed_sections": [],
   "name": "Extensions-2.ipynb",
   "provenance": [],
   "toc_visible": true
  },
  "kernelspec": {
   "display_name": "Python 3",
   "language": "python",
   "name": "python3"
  },
  "language_info": {
   "codemirror_mode": {
    "name": "ipython",
    "version": 3
   },
   "file_extension": ".py",
   "mimetype": "text/x-python",
   "name": "python",
   "nbconvert_exporter": "python",
   "pygments_lexer": "ipython3",
   "version": "3.7.6"
  }
 },
 "nbformat": 4,
 "nbformat_minor": 1
}
